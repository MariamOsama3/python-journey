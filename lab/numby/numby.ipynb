{
 "cells": [
  {
   "cell_type": "code",
   "execution_count": 4,
   "metadata": {},
   "outputs": [
    {
     "name": "stdout",
     "output_type": "stream",
     "text": [
      "\n",
      "Sorting according to the heigh [('mariam', 150, 'AI') ('yassmin', 155, 'AI') ('Ahmed', 180, 'mopile')]\n"
     ]
    }
   ],
   "source": [
    "import numpy as np \n",
    "student = np.array([('mariam', 150, \"AI\"),(\"Ahmed\",180,\"mopile\"),('yassmin', 155, \"AI\")], \n",
    "dtype=[('name', (np.str_, 20)), ('height', np.int32), ('class', np.str_,10)]) \n",
    "\n",
    "# Sorting according to the age \n",
    "sortarray = np.sort(student, order='height') \n",
    "print('\\nSorting according to the heigh', sortarray)\n"
   ]
  },
  {
   "cell_type": "code",
   "execution_count": 7,
   "metadata": {},
   "outputs": [
    {
     "data": {
      "text/plain": [
       "array([19.46701571,  1.44371728, -3.54973822, -1.50183246])"
      ]
     },
     "execution_count": 7,
     "metadata": {},
     "output_type": "execute_result"
    }
   ],
   "source": [
    "a=np.array([[1,2,-3,2],[2,-5,4,9],[-5,40,-1,-20],[5,-4,-1,60]])\n",
    "b=([30,4,-6,5])\n",
    "np.linalg.solve(a,b)"
   ]
  },
  {
   "cell_type": "code",
   "execution_count": 8,
   "metadata": {},
   "outputs": [],
   "source": [
    "from scipy import linalg"
   ]
  },
  {
   "cell_type": "code",
   "execution_count": 52,
   "metadata": {},
   "outputs": [
    {
     "name": "stdout",
     "output_type": "stream",
     "text": [
      "[19.46701571  1.44371728 -3.54973822 -1.50183246]\n"
     ]
    }
   ],
   "source": [
    "a1=np.array([[1,2,-3,2],[2,-5,4,9],[-5,40,-1,-20],[5,-4,-1,60]])\n",
    "b1=([30,4,-6,5])\n",
    "\n",
    "res=linalg.solve(a1,b1)\n",
    "print(res)"
   ]
  },
  {
   "cell_type": "code",
   "execution_count": 13,
   "metadata": {},
   "outputs": [
    {
     "name": "stdout",
     "output_type": "stream",
     "text": [
      "[30.  4. -6.  5.]\n"
     ]
    }
   ],
   "source": [
    "res2=a.dot(res)\n",
    "print(res2)"
   ]
  },
  {
   "cell_type": "code",
   "execution_count": 26,
   "metadata": {},
   "outputs": [
    {
     "name": "stdout",
     "output_type": "stream",
     "text": [
      "0.3409999999999995\n"
     ]
    }
   ],
   "source": [
    "y=[1,2,3,4,5,6]\n",
    "yhat=[1.2,2,3.1,4.02,5.001,5.98]\n",
    "numb=len(y)\n",
    "sum=0\n",
    "for i in range (numb):\n",
    "    sum +=np.absolute(y[i]-yhat[i])\n",
    "print(sum)"
   ]
  },
  {
   "cell_type": "code",
   "execution_count": 27,
   "metadata": {},
   "outputs": [
    {
     "name": "stdout",
     "output_type": "stream",
     "text": [
      "0.050800999999999964\n"
     ]
    }
   ],
   "source": [
    "y2=[1,2,3,4,5,6]\n",
    "yhat2=[1.2,2,3.1,4.02,5.001,5.98]\n",
    "numb=len(y)\n",
    "sum=0\n",
    "for i in range (numb):\n",
    "    sum +=np.square(y[i]-yhat[i])\n",
    "print(sum)"
   ]
  },
  {
   "cell_type": "code",
   "execution_count": 28,
   "metadata": {},
   "outputs": [],
   "source": [
    "import time"
   ]
  },
  {
   "cell_type": "code",
   "execution_count": 59,
   "metadata": {},
   "outputs": [
    {
     "name": "stdout",
     "output_type": "stream",
     "text": [
      "CPU times: total: 406 ms\n",
      "Wall time: 463 ms\n"
     ]
    }
   ],
   "source": [
    "%%time\n",
    "for i in range(100_000):\n",
    "    np.dot(y,y2)"
   ]
  },
  {
   "cell_type": "code",
   "execution_count": 58,
   "metadata": {},
   "outputs": [
    {
     "name": "stdout",
     "output_type": "stream",
     "text": [
      "CPU times: total: 1.17 s\n",
      "Wall time: 1.19 s\n"
     ]
    }
   ],
   "source": [
    "%%time\n",
    "res3=0\n",
    "for i in range(100_100):\n",
    "    for i in range (len(y)):\n",
    "        res+=y[i]*y2[i]\n"
   ]
  },
  {
   "cell_type": "code",
   "execution_count": 60,
   "metadata": {},
   "outputs": [
    {
     "name": "stdout",
     "output_type": "stream",
     "text": [
      "CPU times: total: 0 ns\n",
      "Wall time: 178 ms\n"
     ]
    }
   ],
   "source": [
    "%%time\n",
    "from multiprocessing import Process\n",
    "for i in range(100_100):\n",
    "    def calcdot(a1,a2):\n",
    "        np.dot(a1,a2)\n",
    "\n",
    "if __name__ == '__main__':\n",
    "    p = Process(target=calcdot, args=(y,y2))\n",
    "    p.start()\n",
    "    p.join()"
   ]
  }
 ],
 "metadata": {
  "kernelspec": {
   "display_name": "base",
   "language": "python",
   "name": "python3"
  },
  "language_info": {
   "codemirror_mode": {
    "name": "ipython",
    "version": 3
   },
   "file_extension": ".py",
   "mimetype": "text/x-python",
   "name": "python",
   "nbconvert_exporter": "python",
   "pygments_lexer": "ipython3",
   "version": "3.11.4"
  }
 },
 "nbformat": 4,
 "nbformat_minor": 2
}
