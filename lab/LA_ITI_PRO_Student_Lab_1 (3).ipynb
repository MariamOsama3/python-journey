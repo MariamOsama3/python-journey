{
 "cells": [
  {
   "cell_type": "markdown",
   "metadata": {
    "id": "CKv12gPiSIXd"
   },
   "source": [
    "# LAB 1: Matrix and Vector Computations in python\n",
    "In this lab you will use python to study the following topics:\n",
    "\n",
    "- How to create matrices and vectors in python.\n",
    "\n",
    "- How to manipulate matrices in python and create matrices of special types.\n",
    "\n",
    "- How to add matrices and multiply a vector by a matrix by python.\n",
    "\n",
    "- Solving System of Linear Equations Using Gaussian Elimination.\n",
    "\n",
    "- Matrix Multiplication using Different views."
   ]
  },
  {
   "cell_type": "markdown",
   "metadata": {},
   "source": []
  },
  {
   "cell_type": "markdown",
   "metadata": {
    "id": "F4M9ixRQSIXe"
   },
   "source": [
    "# First: you should run this cell"
   ]
  },
  {
   "cell_type": "code",
   "execution_count": null,
   "metadata": {
    "id": "dUHj0WLTSIXf"
   },
   "outputs": [],
   "source": [
    "# Make all numpy available via shorter 'np' prefix\n",
    "import numpy as np\n",
    "\n",
    "import sympy as sym"
   ]
  },
  {
   "cell_type": "markdown",
   "metadata": {
    "id": "fJ1cryPWSIXg"
   },
   "source": [
    "# Question 1 :Declaring scalars, vectors, and matrices\n",
    "\n",
    "a) Use [numpy.array](https://numpy.org/doc/stable/reference/generated/numpy.array.html) to declare the following:\n",
    "\n",
    "1. A scalar $s = 5$\n",
    "2. A vector $v = \\begin{bmatrix} 5  \\\\ -2 \\\\ 4  \\\\ \\end{bmatrix}$\n",
    "3. A matrix $A = \\begin{bmatrix} 1 & 2 & 3  \\\\ 4 & 5 & 6 \\\\ 7 & 8 & 9  \\\\ \\end{bmatrix}$\n",
    "4. A matrix $B = \\begin{bmatrix} 1 & 2 & 3  \\\\ 4 & 5 & 6 \\\\ \\end{bmatrix}$\n",
    "5. A matrix $C = \\begin{bmatrix} 1 & 2   \\\\ 3 & 4  \\\\ 5 & 6   \\\\ \\end{bmatrix}$"
   ]
  },
  {
   "cell_type": "code",
   "execution_count": null,
   "metadata": {
    "colab": {
     "base_uri": "https://localhost:8080/"
    },
    "id": "fkJAakLDSIXg",
    "outputId": "833c291d-01b7-4bd0-cb85-e6c8278a40e1"
   },
   "outputs": [
    {
     "name": "stdout",
     "output_type": "stream",
     "text": [
      "s =  5\n"
     ]
    }
   ],
   "source": [
    "s =np.array(5)\n",
    "print(\"s = \",s)"
   ]
  },
  {
   "cell_type": "code",
   "execution_count": null,
   "metadata": {
    "colab": {
     "base_uri": "https://localhost:8080/"
    },
    "id": "WxfwnpD4SIXh",
    "outputId": "e6a35e2f-9d33-433b-fd46-4eaf7a1b4a1f"
   },
   "outputs": [
    {
     "name": "stdout",
     "output_type": "stream",
     "text": [
      "v= \n",
      " [[ 5]\n",
      " [-2]\n",
      " [ 4]]\n"
     ]
    }
   ],
   "source": [
    "v=np.array([5,-2,4])\n",
    "v=v.reshape(3,1)\n",
    "print(\"v= \\n\", v)"
   ]
  },
  {
   "cell_type": "code",
   "execution_count": null,
   "metadata": {
    "colab": {
     "base_uri": "https://localhost:8080/"
    },
    "id": "3WxQ3HxuUVsm",
    "outputId": "c377a3ba-468c-4b43-e686-123703489039"
   },
   "outputs": [
    {
     "name": "stdout",
     "output_type": "stream",
     "text": [
      "A= \n",
      " [[1 2 3]\n",
      " [4 5 6]\n",
      " [7 8 9]]\n"
     ]
    }
   ],
   "source": [
    "A=np.array([[1,2,3],[4,5,6],[7,8,9]])\n",
    "print(\"A= \\n\", A)"
   ]
  },
  {
   "cell_type": "code",
   "execution_count": null,
   "metadata": {
    "colab": {
     "base_uri": "https://localhost:8080/"
    },
    "id": "NhTQy5EzUcCk",
    "outputId": "17e3b308-5e6d-4090-e50c-746e686c18f8"
   },
   "outputs": [
    {
     "name": "stdout",
     "output_type": "stream",
     "text": [
      "B= \n",
      " [[1 2 3]\n",
      " [4 5 6]]\n"
     ]
    }
   ],
   "source": [
    "B=np.array([[1,2,3],[4,5,6]])\n",
    "print(\"B= \\n\", B)"
   ]
  },
  {
   "cell_type": "code",
   "execution_count": null,
   "metadata": {
    "colab": {
     "base_uri": "https://localhost:8080/"
    },
    "id": "L2zIyY5vU0aF",
    "outputId": "4e80514e-77a1-4d86-83db-b57b5b73a972"
   },
   "outputs": [
    {
     "name": "stdout",
     "output_type": "stream",
     "text": [
      "C= \n",
      " [[1 2]\n",
      " [3 4]\n",
      " [5 6]]\n"
     ]
    }
   ],
   "source": [
    "C=np.array([[1,2],[3,4],[5,6]])\n",
    "print(\"C= \\n\", C)"
   ]
  },
  {
   "cell_type": "code",
   "execution_count": null,
   "metadata": {
    "id": "DY-AB9xuSIXh",
    "outputId": "efceda57-0459-400f-f84f-af824336725d"
   },
   "outputs": [
    {
     "name": "stdout",
     "output_type": "stream",
     "text": [
      "s = 5\n",
      "\n",
      "v =\n",
      " [[ 5]\n",
      " [-2]\n",
      " [ 4]]\n",
      "\n",
      "A =\n",
      " [[1 2 3]\n",
      " [4 5 6]\n",
      " [7 8 9]]\n",
      "\n",
      "B =\n",
      " [[1 2 3]\n",
      " [4 5 6]]\n",
      "\n",
      "C =\n",
      " [[1 2]\n",
      " [3 4]\n",
      " [5 6]]\n",
      "\n"
     ]
    }
   ],
   "source": [
    "#type your code here:\n"
   ]
  },
  {
   "cell_type": "markdown",
   "metadata": {
    "id": "W4p1xUYCSIXh"
   },
   "source": [
    "b) Print the data type of $s, v,$ and $A$ using `type` command in python."
   ]
  },
  {
   "cell_type": "code",
   "execution_count": null,
   "metadata": {
    "colab": {
     "base_uri": "https://localhost:8080/"
    },
    "id": "_CL1DearVwOe",
    "outputId": "f55daa6a-7ffe-4902-b003-8d244ead9f64"
   },
   "outputs": [
    {
     "name": "stdout",
     "output_type": "stream",
     "text": [
      "<class 'numpy.ndarray'> \n",
      "\n",
      "<class 'numpy.ndarray'> \n",
      "\n",
      "<class 'numpy.ndarray'> \n",
      "\n",
      "<class 'numpy.ndarray'> \n",
      "\n",
      "<class 'numpy.ndarray'> \n",
      "\n"
     ]
    }
   ],
   "source": [
    "print(type(s),\"\\n\")\n",
    "print(type(v),\"\\n\")\n",
    "print(type(A),\"\\n\")\n",
    "print(type(B),\"\\n\")\n",
    "print(type(C),\"\\n\")\n"
   ]
  },
  {
   "cell_type": "code",
   "execution_count": null,
   "metadata": {
    "id": "aSiXRRJfSIXh",
    "outputId": "78afeb09-f5ec-47e1-9abb-798ea0dc72f7"
   },
   "outputs": [
    {
     "name": "stdout",
     "output_type": "stream",
     "text": [
      "type(s) = <class 'numpy.ndarray'>\n",
      "\n",
      "type(v) = <class 'numpy.ndarray'>\n",
      "\n",
      "type(A) = <class 'numpy.ndarray'>\n",
      "\n"
     ]
    }
   ],
   "source": [
    "#type your code here:\n"
   ]
  },
  {
   "cell_type": "markdown",
   "metadata": {
    "id": "4hCR5eTvSIXi"
   },
   "source": [
    "c) Using [numpy.shape](https://numpy.org/devdocs/reference/generated/numpy.shape.html) or `A.shape` print the shape of $s, v, A, B,$ and $C$."
   ]
  },
  {
   "cell_type": "code",
   "execution_count": null,
   "metadata": {
    "colab": {
     "base_uri": "https://localhost:8080/"
    },
    "id": "c4NNBi_KWhVO",
    "outputId": "bd3d1a0c-f7bf-43b9-a3e7-23e24b4890e2"
   },
   "outputs": [
    {
     "name": "stdout",
     "output_type": "stream",
     "text": [
      "s.shape =  () \n",
      "\n",
      "x.shape =  (3, 1) \n",
      "\n",
      "y.shape =  (3, 3) \n",
      "\n",
      "z.shape =  (2, 3) \n",
      "\n",
      "m.shape =  (3, 2) \n",
      "\n"
     ]
    }
   ],
   "source": [
    "print(\"s.shape = \",s.shape,\"\\n\")\n",
    "print(\"x.shape = \",v.shape,\"\\n\")\n",
    "print(\"y.shape = \",A.shape,\"\\n\")\n",
    "print(\"z.shape = \",B.shape,\"\\n\")\n",
    "print(\"m.shape = \",C.shape,\"\\n\")\n"
   ]
  },
  {
   "cell_type": "code",
   "execution_count": null,
   "metadata": {
    "id": "EG7e-li_SIXi",
    "outputId": "97568590-7043-48d4-d6ed-b2f61adfc5d4"
   },
   "outputs": [
    {
     "name": "stdout",
     "output_type": "stream",
     "text": [
      "s.shape = ()\n",
      "\n",
      "v.shape = (3, 1)\n",
      "\n",
      "A.shape = (3, 3)\n",
      "\n",
      "B.shape = (2, 3)\n",
      "\n",
      "C.shape = (3, 2)\n",
      "\n"
     ]
    }
   ],
   "source": [
    "#type your code here:\n"
   ]
  },
  {
   "cell_type": "markdown",
   "metadata": {
    "id": "LaotnVWoSIXi"
   },
   "source": [
    "d) To access a given entry in the `numpy array` put the `row number - 1` and `column number - 1` in square brackets following the array name. Ex `a32 = A[2, 1]`.\n",
    "- Print the value of the third row and the second column of the matrix $A$.\n",
    "- Change it to $10$.\n",
    "- Print the matrix A to check the entry is changed."
   ]
  },
  {
   "cell_type": "code",
   "execution_count": null,
   "metadata": {
    "colab": {
     "base_uri": "https://localhost:8080/"
    },
    "id": "VV-__LtabUCi",
    "outputId": "946ecb95-d456-469f-a5ef-f1214857495b"
   },
   "outputs": [
    {
     "name": "stdout",
     "output_type": "stream",
     "text": [
      "[[1 2 3]\n",
      " [4 5 6]\n",
      " [7 8 9]] \n",
      "\n",
      "8\n"
     ]
    }
   ],
   "source": [
    "print(A,\"\\n\")\n",
    "print(A[2,1])\n"
   ]
  },
  {
   "cell_type": "code",
   "execution_count": null,
   "metadata": {
    "colab": {
     "base_uri": "https://localhost:8080/"
    },
    "id": "YV8ZdF9UchQ2",
    "outputId": "59c41c95-b893-4a56-f388-5c7a292bac7e"
   },
   "outputs": [
    {
     "name": "stdout",
     "output_type": "stream",
     "text": [
      "A= \n",
      " [[ 1  2  3]\n",
      " [ 4  5  6]\n",
      " [ 7 10  9]]\n"
     ]
    }
   ],
   "source": [
    "A[2,1]=10\n",
    "print(\"A= \\n\",A)"
   ]
  },
  {
   "cell_type": "code",
   "execution_count": null,
   "metadata": {
    "id": "zahN2R_xSIXi",
    "outputId": "ef32c1fe-d6c6-43dc-ade0-7537be7aa558"
   },
   "outputs": [
    {
     "name": "stdout",
     "output_type": "stream",
     "text": [
      "A[2, 1] =  8\n",
      "\n",
      "A =\n",
      " [[ 1  2  3]\n",
      " [ 4  5  6]\n",
      " [ 7 10  9]]\n",
      "\n"
     ]
    }
   ],
   "source": [
    "#type your code here:\n"
   ]
  },
  {
   "cell_type": "markdown",
   "metadata": {
    "id": "PenrNKw9SIXi"
   },
   "source": [
    "e)To access a whole row or column of a matrix, use the colon operator. For example, `A[:, [1]]` is the second column of A, while `B[[1], :]` is the second row of B."
   ]
  },
  {
   "cell_type": "code",
   "execution_count": null,
   "metadata": {
    "colab": {
     "base_uri": "https://localhost:8080/"
    },
    "id": "1Ykf74PDd7Qa",
    "outputId": "03e05ea6-b27a-499b-8d0f-46ecfb8b8c0e"
   },
   "outputs": [
    {
     "name": "stdout",
     "output_type": "stream",
     "text": [
      "[[ 2]\n",
      " [ 5]\n",
      " [10]] \n",
      "\n",
      "[[4 5 6]]\n"
     ]
    }
   ],
   "source": [
    "print(A[:,[1]],\"\\n\")\n",
    "print(B[[1],:])"
   ]
  },
  {
   "cell_type": "code",
   "execution_count": null,
   "metadata": {
    "id": "kRi8qxwRSIXi",
    "outputId": "b868d8e1-80bb-4476-c5bc-a2c1ed9edb6b"
   },
   "outputs": [
    {
     "name": "stdout",
     "output_type": "stream",
     "text": [
      "A[:, [1]] =\n",
      " [[ 2]\n",
      " [ 5]\n",
      " [10]]\n",
      "\n",
      "B[[1], :] =\n",
      " [[4 5 6]]\n",
      "\n"
     ]
    }
   ],
   "source": [
    "#type your code here:\n"
   ]
  },
  {
   "cell_type": "markdown",
   "metadata": {
    "id": "xQ_NB2jfSIXj"
   },
   "source": [
    "f) Type each of the following commands that generate special matrices:\n",
    "- `np.eye(4), np.zeros(3), np.zeros((3, 1)), np.zeros((3, 5)), np.ones((2, 3)), and np.diag([4, 5, 6, 7])`"
   ]
  },
  {
   "cell_type": "code",
   "execution_count": null,
   "metadata": {
    "colab": {
     "base_uri": "https://localhost:8080/"
    },
    "id": "__nJUzqHePzB",
    "outputId": "d7dcbad1-a3b0-48ac-91f2-bb9a8bc55207"
   },
   "outputs": [
    {
     "data": {
      "text/plain": [
       "array([[1., 0., 0., 0.],\n",
       "       [0., 1., 0., 0.],\n",
       "       [0., 0., 1., 0.],\n",
       "       [0., 0., 0., 1.]])"
      ]
     },
     "execution_count": 62,
     "metadata": {},
     "output_type": "execute_result"
    }
   ],
   "source": [
    "np.eye(4) #matrix with 4*4 dimentions and the diagonal is all ones"
   ]
  },
  {
   "cell_type": "code",
   "execution_count": null,
   "metadata": {
    "colab": {
     "base_uri": "https://localhost:8080/"
    },
    "id": "ScSfDTeEegBv",
    "outputId": "ed9de28e-eebe-485c-9f7a-36a2d377752a"
   },
   "outputs": [
    {
     "data": {
      "text/plain": [
       "array([0., 0., 0.])"
      ]
     },
     "execution_count": 63,
     "metadata": {},
     "output_type": "execute_result"
    }
   ],
   "source": [
    "np.zeros(3) #matrix 0f 1*3"
   ]
  },
  {
   "cell_type": "code",
   "execution_count": null,
   "metadata": {
    "colab": {
     "base_uri": "https://localhost:8080/"
    },
    "id": "XuPcmlE2ep2s",
    "outputId": "0e45b8fe-02ab-4692-8264-994cfdd28d6b"
   },
   "outputs": [
    {
     "data": {
      "text/plain": [
       "array([[0.],\n",
       "       [0.],\n",
       "       [0.]])"
      ]
     },
     "execution_count": 65,
     "metadata": {},
     "output_type": "execute_result"
    }
   ],
   "source": [
    "np.zeros((3, 1))"
   ]
  },
  {
   "cell_type": "code",
   "execution_count": null,
   "metadata": {
    "colab": {
     "base_uri": "https://localhost:8080/"
    },
    "id": "AX2sQgDgewlR",
    "outputId": "8b0808ed-930c-4580-ba53-8775ec63ba98"
   },
   "outputs": [
    {
     "data": {
      "text/plain": [
       "array([[0., 0., 0., 0., 0.],\n",
       "       [0., 0., 0., 0., 0.],\n",
       "       [0., 0., 0., 0., 0.]])"
      ]
     },
     "execution_count": 66,
     "metadata": {},
     "output_type": "execute_result"
    }
   ],
   "source": [
    "np.zeros((3, 5))"
   ]
  },
  {
   "cell_type": "code",
   "execution_count": null,
   "metadata": {
    "colab": {
     "base_uri": "https://localhost:8080/"
    },
    "id": "y4tleelje0dZ",
    "outputId": "50ba809f-84e0-4119-ae17-64ab4efb04ca"
   },
   "outputs": [
    {
     "data": {
      "text/plain": [
       "array([[1., 1., 1.],\n",
       "       [1., 1., 1.]])"
      ]
     },
     "execution_count": 67,
     "metadata": {},
     "output_type": "execute_result"
    }
   ],
   "source": [
    "np.ones((2, 3))"
   ]
  },
  {
   "cell_type": "code",
   "execution_count": null,
   "metadata": {
    "colab": {
     "base_uri": "https://localhost:8080/"
    },
    "id": "zXk7oMgfe8Hl",
    "outputId": "772de926-780e-4163-8b2f-69aab9d511dd"
   },
   "outputs": [
    {
     "data": {
      "text/plain": [
       "array([[4, 0, 0, 0],\n",
       "       [0, 5, 0, 0],\n",
       "       [0, 0, 6, 0],\n",
       "       [0, 0, 0, 7]])"
      ]
     },
     "execution_count": 68,
     "metadata": {},
     "output_type": "execute_result"
    }
   ],
   "source": [
    "np.diag([4, 5, 6, 7]) #all the other cells are zeros"
   ]
  },
  {
   "cell_type": "code",
   "execution_count": null,
   "metadata": {
    "id": "FtSrO8PefEtK"
   },
   "outputs": [],
   "source": []
  },
  {
   "cell_type": "code",
   "execution_count": null,
   "metadata": {
    "id": "5g89FJEiSIXj",
    "outputId": "e3b89ebd-c93a-4287-ab03-661cec657ad6"
   },
   "outputs": [
    {
     "name": "stdout",
     "output_type": "stream",
     "text": [
      "np.eye(4) =\n",
      " [[1. 0. 0. 0.]\n",
      " [0. 1. 0. 0.]\n",
      " [0. 0. 1. 0.]\n",
      " [0. 0. 0. 1.]]\n",
      "\n",
      "np.zeros(3) =\n",
      " [0. 0. 0.]\n",
      "\n",
      "np.zeros(3, 1) =\n",
      " [[0.]\n",
      " [0.]\n",
      " [0.]]\n",
      "\n",
      "np.zeros(3, 5) =\n",
      " [[0. 0. 0. 0. 0.]\n",
      " [0. 0. 0. 0. 0.]\n",
      " [0. 0. 0. 0. 0.]]\n",
      "\n",
      "np.ones(2, 3) =\n",
      " [[1. 1. 1.]\n",
      " [1. 1. 1.]]\n",
      "\n",
      "np.diag([4 5 6 7]) =\n",
      " [[4 0 0 0]\n",
      " [0 5 0 0]\n",
      " [0 0 6 0]\n",
      " [0 0 0 7]]\n"
     ]
    }
   ],
   "source": [
    "#type your code here:\n"
   ]
  },
  {
   "cell_type": "markdown",
   "metadata": {
    "id": "Uxsfe2g3SIXj"
   },
   "source": [
    "# Question 2. Vectors Addition, Scaling, and dot product"
   ]
  },
  {
   "cell_type": "markdown",
   "metadata": {
    "id": "MLfR2kpaSIXj"
   },
   "source": [
    "a) Declare vectors $v1 = \\begin{bmatrix} 1  \\\\ 2 \\\\ 7  \\\\ 4 \\\\ \\end{bmatrix}$ and $v2 = \\begin{bmatrix} 4  \\\\ 3 \\\\ 6  \\\\ 8 \\\\ \\end{bmatrix}$\n",
    "\n",
    "- Addition: $v1 + v2$\n",
    "- Subtraction: $v1 - v2$\n",
    "- Scaling by a number: $3 * v1$\n",
    "- Scaling by a number: $v1 / 2$"
   ]
  },
  {
   "cell_type": "code",
   "execution_count": null,
   "metadata": {
    "colab": {
     "base_uri": "https://localhost:8080/"
    },
    "id": "wiCclbMNfaar",
    "outputId": "679f972a-0ef0-4a0f-cb4c-db0389605218"
   },
   "outputs": [
    {
     "name": "stdout",
     "output_type": "stream",
     "text": [
      "[[1]\n",
      " [2]\n",
      " [7]\n",
      " [4]] \n",
      "\n",
      "[[4]\n",
      " [3]\n",
      " [6]\n",
      " [8]] \n",
      "\n"
     ]
    }
   ],
   "source": [
    "v1=np.array([1,2,7,4])\n",
    "v2=np.array([4,3,6,8])\n",
    "v1=v1.reshape(4,1)\n",
    "v2=v2.reshape(4,1)\n",
    "print(v1,\"\\n\")\n",
    "print(v2,\"\\n\")"
   ]
  },
  {
   "cell_type": "code",
   "execution_count": null,
   "metadata": {
    "colab": {
     "base_uri": "https://localhost:8080/"
    },
    "id": "8am4AqoAfi3d",
    "outputId": "869c83c2-7613-48a9-9aa6-3ac0ee68b368"
   },
   "outputs": [
    {
     "name": "stdout",
     "output_type": "stream",
     "text": [
      "[[ 5]\n",
      " [ 5]\n",
      " [13]\n",
      " [12]] \n",
      "\n",
      "[[-3]\n",
      " [-1]\n",
      " [ 1]\n",
      " [-4]] \n",
      "\n",
      "[[ 3]\n",
      " [ 6]\n",
      " [21]\n",
      " [12]] \n",
      "\n",
      "[[0.5]\n",
      " [1. ]\n",
      " [3.5]\n",
      " [2. ]] \n",
      "\n"
     ]
    }
   ],
   "source": [
    "print(v1+v2,\"\\n\")\n",
    "print(v1-v2,\"\\n\")\n",
    "print(3*v1,\"\\n\")\n",
    "print(v1/2,\"\\n\")"
   ]
  },
  {
   "cell_type": "code",
   "execution_count": null,
   "metadata": {
    "id": "KLPPNK2eSIXj",
    "outputId": "5b1a569d-9785-435a-cc92-492491b2bd04"
   },
   "outputs": [
    {
     "name": "stdout",
     "output_type": "stream",
     "text": [
      "v1 =\n",
      " [[1]\n",
      " [2]\n",
      " [7]\n",
      " [4]]\n",
      "\n",
      "v2 =\n",
      " [[4]\n",
      " [3]\n",
      " [6]\n",
      " [8]]\n",
      "\n",
      "v1 + v2 =\n",
      " [[ 5]\n",
      " [ 5]\n",
      " [13]\n",
      " [12]]\n",
      "\n",
      "v1 - v2 =\n",
      " [[-3]\n",
      " [-1]\n",
      " [ 1]\n",
      " [-4]]\n",
      "\n",
      "3*v1 =\n",
      " [[ 3]\n",
      " [ 6]\n",
      " [21]\n",
      " [12]]\n",
      "\n",
      "v1/2 =\n",
      " [[0.5]\n",
      " [1. ]\n",
      " [3.5]\n",
      " [2. ]]\n",
      "\n"
     ]
    }
   ],
   "source": [
    "#type your code here:\n"
   ]
  },
  {
   "cell_type": "markdown",
   "metadata": {
    "id": "-T_NBmK4SIXj"
   },
   "source": [
    "b) Find the dot product between the two vectors $v1$ and $v2$ using the following:\n",
    "\n",
    "- [numpy.dot](https://numpy.org/doc/stable/reference/generated/numpy.dot.html)\n",
    "- [numpy.matmul](https://numpy.org/doc/stable/reference/generated/numpy.matmul.html#numpy.matmul)\n",
    "- `v1.T @ v2`"
   ]
  },
  {
   "cell_type": "code",
   "execution_count": null,
   "metadata": {
    "id": "oRMfAUbQgAbz"
   },
   "outputs": [],
   "source": [
    "v1=v1.T"
   ]
  },
  {
   "cell_type": "code",
   "execution_count": null,
   "metadata": {
    "colab": {
     "base_uri": "https://localhost:8080/"
    },
    "id": "qo3S4u7LgSri",
    "outputId": "451ce71d-29b9-4110-b226-526bd88f3059"
   },
   "outputs": [
    {
     "data": {
      "text/plain": [
       "array([[84]])"
      ]
     },
     "execution_count": 75,
     "metadata": {},
     "output_type": "execute_result"
    }
   ],
   "source": [
    "v1.dot(v2)"
   ]
  },
  {
   "cell_type": "code",
   "execution_count": null,
   "metadata": {
    "colab": {
     "base_uri": "https://localhost:8080/"
    },
    "id": "1meM_SVrgXJc",
    "outputId": "3759b5eb-a436-4e3c-db66-b1242d93ec1d"
   },
   "outputs": [
    {
     "data": {
      "text/plain": [
       "array([[84]])"
      ]
     },
     "execution_count": 77,
     "metadata": {},
     "output_type": "execute_result"
    }
   ],
   "source": [
    "np.matmul(v1,v2)"
   ]
  },
  {
   "cell_type": "code",
   "execution_count": null,
   "metadata": {
    "colab": {
     "base_uri": "https://localhost:8080/"
    },
    "id": "cBoriOePgfrj",
    "outputId": "a311c8d9-9651-4036-abcf-17089b751b2e"
   },
   "outputs": [
    {
     "name": "stdout",
     "output_type": "stream",
     "text": [
      "[[84]]\n"
     ]
    }
   ],
   "source": [
    "v3=v1@v2\n",
    "print(v3)"
   ]
  },
  {
   "cell_type": "code",
   "execution_count": null,
   "metadata": {
    "id": "ertKIkVKSIXj",
    "outputId": "69ff5fcb-9e7c-41d1-f4e1-bfa47b1526c3"
   },
   "outputs": [
    {
     "name": "stdout",
     "output_type": "stream",
     "text": [
      "Using numpy.dot =\n",
      " [[84]]\n",
      "\n",
      "Using numpy.matmul =\n",
      " [[84]]\n",
      "\n",
      "Using @ =\n",
      " [[84]]\n",
      "\n"
     ]
    }
   ],
   "source": [
    "#type your code here:\n"
   ]
  },
  {
   "cell_type": "markdown",
   "metadata": {
    "id": "TgwnazJOSIXj"
   },
   "source": [
    "c) Find the length of the vectors $v1$ and $v2$.\n",
    "- Using [numpy.linalg.norm](https://numpy.org/doc/stable/reference/generated/numpy.linalg.norm.html)\n",
    "- Using the dot product and [numpy.sqrt](https://numpy.org/doc/stable/reference/generated/numpy.sqrt.html)\n"
   ]
  },
  {
   "cell_type": "code",
   "execution_count": null,
   "metadata": {
    "colab": {
     "base_uri": "https://localhost:8080/"
    },
    "id": "MLcZFBFTglzT",
    "outputId": "177c4529-a58e-4f36-9908-1a825f817534"
   },
   "outputs": [
    {
     "name": "stdout",
     "output_type": "stream",
     "text": [
      "[[1]\n",
      " [2]\n",
      " [7]\n",
      " [4]]\n"
     ]
    }
   ],
   "source": [
    "print(v1.T)"
   ]
  },
  {
   "cell_type": "code",
   "execution_count": null,
   "metadata": {
    "colab": {
     "base_uri": "https://localhost:8080/"
    },
    "id": "9bvsU_b9hAdA",
    "outputId": "23515280-00a3-4a1d-b938-336042b5f6a1"
   },
   "outputs": [
    {
     "data": {
      "text/plain": [
       "11.180339887498949"
      ]
     },
     "execution_count": 84,
     "metadata": {},
     "output_type": "execute_result"
    }
   ],
   "source": [
    "np.linalg.norm(v1)\n",
    "np.linalg.norm(v2)"
   ]
  },
  {
   "cell_type": "code",
   "execution_count": null,
   "metadata": {
    "colab": {
     "base_uri": "https://localhost:8080/"
    },
    "id": "Qh_MDCq8hO3W",
    "outputId": "e041d3e0-babf-449c-c475-72c797986c74"
   },
   "outputs": [
    {
     "name": "stdout",
     "output_type": "stream",
     "text": [
      "[[8.36660027]]\n",
      "[[11.18033989]]\n"
     ]
    }
   ],
   "source": [
    "length_v1= np.sqrt(np.dot(v1.T, v1)) #first dot v1 and v1 then you have the norm **2 so we take the sqrt\n",
    "length_v2= np.sqrt(np.dot(v2.T, v2))\n",
    "print(length_v1)\n",
    "print(length_v2)"
   ]
  },
  {
   "cell_type": "code",
   "execution_count": null,
   "metadata": {
    "id": "VPVaN7w3SIXk",
    "outputId": "69119123-ffd4-4114-f8d2-1135adf99362"
   },
   "outputs": [
    {
     "name": "stdout",
     "output_type": "stream",
     "text": [
      "length of v1 Using numpy.linalg.norm =\n",
      " 8.366600265340756\n",
      "\n",
      "length of v2 Using numpy.linalg.norm =\n",
      " 11.180339887498949\n",
      "\n",
      "length of v1 Using the dot product and numpy.sqrt =\n",
      " [[8.36660027]]\n",
      "\n",
      "length of v2 Using the dot product and numpy.sqrt =\n",
      " [[11.18033989]]\n",
      "\n"
     ]
    }
   ],
   "source": [
    "#type your code here:\n"
   ]
  },
  {
   "cell_type": "markdown",
   "metadata": {
    "id": "RVxWAA8GSIXk"
   },
   "source": [
    "d) Show that the vectors $u = \\begin{bmatrix} 3  \\\\ 2 \\\\ -1  \\\\ 4 \\\\ \\end{bmatrix}$ and $v = \\begin{bmatrix} 1  \\\\ -1 \\\\ 1  \\\\ 0 \\\\ \\end{bmatrix}$ are orthogonal.\n"
   ]
  },
  {
   "cell_type": "code",
   "execution_count": null,
   "metadata": {
    "colab": {
     "base_uri": "https://localhost:8080/"
    },
    "id": "6VoIvrdonCjK",
    "outputId": "b38b482e-bc7b-42cc-958a-08534e3df0d2"
   },
   "outputs": [
    {
     "data": {
      "text/plain": [
       "array([[ 3],\n",
       "       [ 2],\n",
       "       [-1],\n",
       "       [ 4]])"
      ]
     },
     "execution_count": 108,
     "metadata": {},
     "output_type": "execute_result"
    }
   ],
   "source": [
    "u=np.array([3,2,-1,4])\n",
    "v=np.array([1,-1,1,0])\n",
    "u.reshape(4,1)\n"
   ]
  },
  {
   "cell_type": "code",
   "execution_count": null,
   "metadata": {
    "colab": {
     "base_uri": "https://localhost:8080/"
    },
    "id": "9-Qg01A1nSl4",
    "outputId": "865d84dd-dceb-4c83-d6a8-c75580cd5b29"
   },
   "outputs": [
    {
     "data": {
      "text/plain": [
       "0"
      ]
     },
     "execution_count": 109,
     "metadata": {},
     "output_type": "execute_result"
    }
   ],
   "source": [
    "u@v #  هيبقى بصفر وبالتالي ناتج الدوت هيبقى بصفر لcos المتعامدين ناتج ال"
   ]
  },
  {
   "cell_type": "code",
   "execution_count": null,
   "metadata": {
    "id": "SV5uq_X-SIXk",
    "outputId": "79ffdd6a-29b4-4077-fcef-96e816184262"
   },
   "outputs": [
    {
     "name": "stdout",
     "output_type": "stream",
     "text": [
      "u.T @ v =\n",
      " [[0]]\n",
      "\n"
     ]
    }
   ],
   "source": [
    "#type your code here:\n"
   ]
  },
  {
   "cell_type": "markdown",
   "metadata": {
    "id": "zVjGODOfSIXk"
   },
   "source": [
    "# Question 3. Matrix Addition and Matrix-Vector Multiplication\n",
    "\n",
    "Declare vectors $u$ and $v$ and matrices $A$ and $B$ as following:\n",
    "- $u = \\begin{bmatrix} 2  \\\\ 7 \\\\ 2 \\\\ \\end{bmatrix}$, $v = \\begin{bmatrix} 8  \\\\ 2 \\\\ 4 \\\\ \\end{bmatrix}$\n",
    "- $A = \\begin{bmatrix} 7 & 3 & 5  \\\\ 4 & 6 & 2 \\\\ \\end{bmatrix}$, $B = \\begin{bmatrix} 0 & 6 & 4  \\\\ 2 & 3 & 0 \\\\ \\end{bmatrix}$\n",
    "\n",
    "a) Calculate the following using python.\n",
    "\n",
    "- $A+B$\n",
    "- $B+A$\n",
    "- $3A$\n",
    "- $6B$\n",
    "- $2(3B)$\n",
    "- $6A+15B$\n",
    "- $3(2A+5B)$\n",
    "- $(3A^T)^T$"
   ]
  },
  {
   "cell_type": "code",
   "execution_count": null,
   "metadata": {
    "id": "2yCpk-nooAeO"
   },
   "outputs": [],
   "source": [
    "u=np.array([2,7,2])\n",
    "u=u.reshape(3,1)\n",
    "v=np.array([8,2,4])\n",
    "v=v.reshape(3,1)\n",
    "A=np.array([[7,3,5],[4,6,2]])\n",
    "B=np.array([[0,6,4],[2,3,0]])"
   ]
  },
  {
   "cell_type": "code",
   "execution_count": null,
   "metadata": {
    "colab": {
     "base_uri": "https://localhost:8080/"
    },
    "id": "ELuiJRssoI4t",
    "outputId": "398e284f-37e7-4b41-f781-41b592d62608"
   },
   "outputs": [
    {
     "name": "stdout",
     "output_type": "stream",
     "text": [
      "[[7 9 9]\n",
      " [6 9 2]] \n",
      "\n"
     ]
    }
   ],
   "source": [
    "print(A+B)\n"
   ]
  },
  {
   "cell_type": "code",
   "execution_count": null,
   "metadata": {
    "colab": {
     "base_uri": "https://localhost:8080/"
    },
    "id": "xRCulO1Boapn",
    "outputId": "4022b31c-e8a8-41f0-ec4e-979c763eb362"
   },
   "outputs": [
    {
     "name": "stdout",
     "output_type": "stream",
     "text": [
      "[[7 9 9]\n",
      " [6 9 2]] \n",
      "\n"
     ]
    }
   ],
   "source": [
    "print(B+A)"
   ]
  },
  {
   "cell_type": "code",
   "execution_count": null,
   "metadata": {
    "colab": {
     "base_uri": "https://localhost:8080/"
    },
    "id": "X95cFeo7odb7",
    "outputId": "26a357cf-dc3b-4ff6-a4f0-fab07f2402a7"
   },
   "outputs": [
    {
     "name": "stdout",
     "output_type": "stream",
     "text": [
      "[[21  9 15]\n",
      " [12 18  6]]\n"
     ]
    }
   ],
   "source": [
    "print(3*A)"
   ]
  },
  {
   "cell_type": "code",
   "execution_count": null,
   "metadata": {
    "colab": {
     "base_uri": "https://localhost:8080/"
    },
    "id": "Oo46b9i5onEI",
    "outputId": "8ae407ea-dfb8-480f-e174-6c5290c622a2"
   },
   "outputs": [
    {
     "name": "stdout",
     "output_type": "stream",
     "text": [
      "[[ 0 36 24]\n",
      " [12 18  0]]\n"
     ]
    }
   ],
   "source": [
    "print(6*B)"
   ]
  },
  {
   "cell_type": "code",
   "execution_count": null,
   "metadata": {
    "colab": {
     "base_uri": "https://localhost:8080/"
    },
    "id": "A3svKWcEoq-S",
    "outputId": "debfff46-b0e8-4eb2-e07b-1542525d2fb1"
   },
   "outputs": [
    {
     "name": "stdout",
     "output_type": "stream",
     "text": [
      "[[ 0 36 24]\n",
      " [12 18  0]]\n"
     ]
    }
   ],
   "source": [
    "print(2*(3*B))"
   ]
  },
  {
   "cell_type": "code",
   "execution_count": null,
   "metadata": {
    "colab": {
     "base_uri": "https://localhost:8080/"
    },
    "id": "JnzkCovpo0bP",
    "outputId": "1e8dc569-308f-48c5-af86-4ba1520ce779"
   },
   "outputs": [
    {
     "name": "stdout",
     "output_type": "stream",
     "text": [
      "[[ 42 108  90]\n",
      " [ 54  81  12]]\n"
     ]
    }
   ],
   "source": [
    "print(6*A+15*B)"
   ]
  },
  {
   "cell_type": "code",
   "execution_count": null,
   "metadata": {
    "colab": {
     "base_uri": "https://localhost:8080/"
    },
    "id": "BYg0g0Ppo5cB",
    "outputId": "618cc958-fdc4-4d2c-c16a-3d4dbdbbe1da"
   },
   "outputs": [
    {
     "name": "stdout",
     "output_type": "stream",
     "text": [
      "[[14  6 10]\n",
      " [ 8 12  4]]\n"
     ]
    }
   ],
   "source": [
    "print(2*A)"
   ]
  },
  {
   "cell_type": "code",
   "execution_count": null,
   "metadata": {
    "colab": {
     "base_uri": "https://localhost:8080/"
    },
    "id": "S4i53WClpL1t",
    "outputId": "ba299baf-8eb8-4c05-88a8-097be5c33c8e"
   },
   "outputs": [
    {
     "name": "stdout",
     "output_type": "stream",
     "text": [
      "[[ 0 30 20]\n",
      " [10 15  0]]\n"
     ]
    }
   ],
   "source": [
    "print(5*B)"
   ]
  },
  {
   "cell_type": "code",
   "execution_count": null,
   "metadata": {
    "colab": {
     "base_uri": "https://localhost:8080/"
    },
    "id": "hgX3ScB_pRgH",
    "outputId": "948c3765-a2aa-4e5f-eb6c-0c1d64a97f6f"
   },
   "outputs": [
    {
     "name": "stdout",
     "output_type": "stream",
     "text": [
      "[[14 36 30]\n",
      " [18 27  4]]\n"
     ]
    }
   ],
   "source": [
    "print(2*A+5*B)"
   ]
  },
  {
   "cell_type": "code",
   "execution_count": null,
   "metadata": {
    "colab": {
     "base_uri": "https://localhost:8080/"
    },
    "id": "J4DjaFfBpYSP",
    "outputId": "0bbe2905-0138-469a-edc1-8eb1f404a4f2"
   },
   "outputs": [
    {
     "name": "stdout",
     "output_type": "stream",
     "text": [
      "[[ 42 108  90]\n",
      " [ 54  81  12]]\n"
     ]
    }
   ],
   "source": [
    "print(3*(2*A+5*B))"
   ]
  },
  {
   "cell_type": "code",
   "execution_count": null,
   "metadata": {
    "colab": {
     "base_uri": "https://localhost:8080/"
    },
    "id": "M9Lnn5PASIXk",
    "outputId": "1e01de25-392f-456c-f5f8-5a9f29fe47f6"
   },
   "outputs": [
    {
     "name": "stdout",
     "output_type": "stream",
     "text": [
      "[[21  9 15]\n",
      " [12 18  6]]\n"
     ]
    }
   ],
   "source": [
    "#type your code here:\n",
    "print(3*A)"
   ]
  },
  {
   "cell_type": "code",
   "execution_count": null,
   "metadata": {
    "colab": {
     "base_uri": "https://localhost:8080/"
    },
    "id": "V1PBjakQp3vW",
    "outputId": "f5140d4f-22b6-40c4-d51d-4780dce6b460"
   },
   "outputs": [
    {
     "name": "stdout",
     "output_type": "stream",
     "text": [
      "[[21  9 15]\n",
      " [12 18  6]]\n"
     ]
    }
   ],
   "source": [
    "print((3*A.T).T)"
   ]
  },
  {
   "cell_type": "code",
   "execution_count": null,
   "metadata": {
    "id": "rheGef2Xpz21"
   },
   "outputs": [],
   "source": []
  },
  {
   "cell_type": "markdown",
   "metadata": {
    "id": "sY2XmQw4SIXk"
   },
   "source": [
    "b) To obtain the matrix-vector product $Au$ using python, type `A @ u`. Calculate the following:\n",
    "\n",
    "- $Au+Av$\n",
    "- $A(u+v)$\n",
    "- $(A+B)u$\n",
    "- $Au+Bu$\n",
    "- $A(3u)$\n",
    "- $3A(u)$"
   ]
  },
  {
   "cell_type": "code",
   "execution_count": null,
   "metadata": {
    "colab": {
     "base_uri": "https://localhost:8080/"
    },
    "id": "_D2D1-fJqNGk",
    "outputId": "d2883e08-defe-44ca-9989-c4f6aba79d1e"
   },
   "outputs": [
    {
     "name": "stdout",
     "output_type": "stream",
     "text": [
      "[[127]\n",
      " [106]]\n"
     ]
    }
   ],
   "source": [
    "print(A@u+A@v) #brodcasting starting (3,1)(2,3)->(1,3)(3,2) #reshape so can make dot product"
   ]
  },
  {
   "cell_type": "code",
   "execution_count": null,
   "metadata": {
    "colab": {
     "base_uri": "https://localhost:8080/"
    },
    "id": "pebG2Q0Vrsgg",
    "outputId": "106d0111-793e-4cc1-fdf1-4eedd27117de"
   },
   "outputs": [
    {
     "name": "stdout",
     "output_type": "stream",
     "text": [
      "[[127]\n",
      " [106]]\n"
     ]
    }
   ],
   "source": [
    "print(A@(u+v)) #the same input"
   ]
  },
  {
   "cell_type": "code",
   "execution_count": null,
   "metadata": {
    "colab": {
     "base_uri": "https://localhost:8080/"
    },
    "id": "nyyHR5OfrzmN",
    "outputId": "0e479d12-479e-4f57-8c4e-871a71cca3b9"
   },
   "outputs": [
    {
     "name": "stdout",
     "output_type": "stream",
     "text": [
      "[[95]\n",
      " [79]]\n"
     ]
    }
   ],
   "source": [
    "print((A+B)@u) #brodcasting"
   ]
  },
  {
   "cell_type": "code",
   "execution_count": null,
   "metadata": {
    "colab": {
     "base_uri": "https://localhost:8080/"
    },
    "id": "5yyKCoX5sEl6",
    "outputId": "ae84c128-5550-4fb8-eb07-1ae878b41258"
   },
   "outputs": [
    {
     "name": "stdout",
     "output_type": "stream",
     "text": [
      "[[95]\n",
      " [79]]\n"
     ]
    }
   ],
   "source": [
    "print(A@u+B@u) #the same output"
   ]
  },
  {
   "cell_type": "code",
   "execution_count": null,
   "metadata": {
    "colab": {
     "base_uri": "https://localhost:8080/"
    },
    "id": "iohdsKxKsJwk",
    "outputId": "b26c7377-743a-4cbd-9c63-3def6ba8a023"
   },
   "outputs": [
    {
     "name": "stdout",
     "output_type": "stream",
     "text": [
      "[[135]\n",
      " [162]]\n"
     ]
    }
   ],
   "source": [
    "print(A@(3*u)) #brodcasting"
   ]
  },
  {
   "cell_type": "code",
   "execution_count": null,
   "metadata": {
    "colab": {
     "base_uri": "https://localhost:8080/"
    },
    "id": "b9U1hTYxsZk_",
    "outputId": "64a79e3e-4fc1-47f7-8655-55ea15d70360"
   },
   "outputs": [
    {
     "name": "stdout",
     "output_type": "stream",
     "text": [
      "[[135]\n",
      " [162]]\n"
     ]
    }
   ],
   "source": [
    "print(3*(A@u)) #the same output"
   ]
  },
  {
   "cell_type": "code",
   "execution_count": null,
   "metadata": {
    "id": "X3V_-kskSIXk",
    "outputId": "48a4ff43-99d2-44b0-ba27-458a9437bd20"
   },
   "outputs": [
    {
     "name": "stdout",
     "output_type": "stream",
     "text": [
      "Au + Av =\n",
      " [[127]\n",
      " [106]]\n",
      "\n",
      "A(u + v) =\n",
      " [[127]\n",
      " [106]]\n",
      "\n",
      "(A + B)u =\n",
      " [[95]\n",
      " [79]]\n",
      "\n",
      "Au + Bu =\n",
      " [[95]\n",
      " [79]]\n",
      "\n",
      "A(3u) =\n",
      " [[135]\n",
      " [162]]\n",
      "\n",
      "3A(u) =\n",
      " [[135]\n",
      " [162]]\n",
      "\n"
     ]
    }
   ],
   "source": [
    "#type your code here:\n"
   ]
  },
  {
   "cell_type": "markdown",
   "metadata": {
    "id": "_w-A9fotSIXk"
   },
   "source": [
    "# Question 4. Gaussian Elimination and Reduced Row-Echelon Form"
   ]
  },
  {
   "cell_type": "markdown",
   "metadata": {
    "id": "h-y5vhytSIXl"
   },
   "source": [
    "You will see a step-by-step example of the row operations that transform a matrix $A$ into its reduced row echelon form $R = rref(A)$. In this demonstration, each pivot is chosen to be the largest in its column (for numerical stability), so extra row interchanges are used. Since $rref(A)$ is uniquely determined by $A$, this does not affect the final answer.\n",
    "\n",
    "The built in [rref](https://docs.sympy.org/latest/tutorial/matrices.html#rref) method `sympy.rref()` method just search for the method and its output to deal with the code."
   ]
  },
  {
   "cell_type": "markdown",
   "metadata": {
    "id": "u3lGKTcQSIXl"
   },
   "source": [
    "#### (a) Generate and display a $3 \\times 4$ matrix $A$ with random integer entries"
   ]
  },
  {
   "cell_type": "code",
   "execution_count": null,
   "metadata": {
    "colab": {
     "base_uri": "https://localhost:8080/"
    },
    "id": "WgJ7hXFTSIXl",
    "outputId": "cb5c480c-0f3e-45b0-ecf2-c7b0632be71e"
   },
   "outputs": [
    {
     "name": "stdout",
     "output_type": "stream",
     "text": [
      "\n",
      " A = \n",
      " [[9. 3. 5. 8.]\n",
      " [1. 3. 9. 1.]\n",
      " [8. 9. 0. 0.]]\n"
     ]
    }
   ],
   "source": [
    "#type your code here:\n",
    "A = np.fix((10*(np.random.rand(3,4)))) #fix use to round the rondom number so it be int\n",
    "print(\"\\n A = \\n\", A)"
   ]
  },
  {
   "cell_type": "markdown",
   "metadata": {
    "id": "vFJUxZeFSIXl"
   },
   "source": [
    "- To transform $A$ into $R = rref(A)$, start with $R = A$.\n",
    "- Normalize the first row of R to get R(1st row, 1st column) = 1\n",
    "\n",
    "    - `R = A`\n",
    "    - `R[0,:] = R[0, :] / R[0, 0]`\n",
    "\n",
    "(note the use of the colon to operate on whole rows of the matrix).\n",
    "\n",
    "<div class=\"alert alert-block alert-warning\">If your random matrix happens to have A(1, 1) = 0, then interchange rows to get a nonzero entry in the (1, 1) position before doing the calculation above.</div>\n",
    "\n",
    "- Now subtract a multiple of the first row of R from the second row to make R(2, 1) = 0:\n",
    "\n",
    "    - `R[1, :] = R[1, :] - R[1, 0] * R[0, :]`\n",
    "\n",
    "- Repeat this procedure to make R(3, 1) = 0:\n",
    "\n",
    "    - `R[2, :] = R[2, :] - R[2, 0] * R[0, :]`\n",
    "\n",
    "The first column of your matrix $R$ should now be the same as the first column of $rref(A)$."
   ]
  },
  {
   "cell_type": "code",
   "execution_count": null,
   "metadata": {
    "id": "1Fi13e-RSIXm",
    "outputId": "dd5d0e14-4b64-4d27-eb2b-797df218d1b6"
   },
   "outputs": [
    {
     "name": "stdout",
     "output_type": "stream",
     "text": [
      "\n",
      " R = \n",
      " [[ 1.          0.          0.          0.20945946]\n",
      " [ 0.          1.          0.          1.01351351]\n",
      " [ 0.          0.          1.         -0.16891892]]\n"
     ]
    }
   ],
   "source": [
    "#type your code here:\n",
    "\n"
   ]
  },
  {
   "cell_type": "code",
   "execution_count": null,
   "metadata": {
    "id": "OvFx4Elk0pE_"
   },
   "outputs": [],
   "source": [
    "R=A"
   ]
  },
  {
   "cell_type": "code",
   "execution_count": null,
   "metadata": {
    "colab": {
     "base_uri": "https://localhost:8080/"
    },
    "id": "xpJ3qE2V0sF7",
    "outputId": "b318b3f3-5bbc-44b2-844f-48214ce8798b"
   },
   "outputs": [
    {
     "name": "stdout",
     "output_type": "stream",
     "text": [
      "[[ 0.66666667  0.          0.22222222  0.55555556]\n",
      " [ 0.          1.          3.16666667  0.04166667]\n",
      " [-0.         -0.          1.          0.30102041]]\n"
     ]
    }
   ],
   "source": [
    "R[0,:]=R[0,:]-R[0,1] #make the second element in first row =zero\n",
    "print(A)"
   ]
  },
  {
   "cell_type": "code",
   "execution_count": null,
   "metadata": {
    "colab": {
     "base_uri": "https://localhost:8080/"
    },
    "id": "9QThS3PU1Nz-",
    "outputId": "7ba6fc42-3902-4193-a047-ba27e44e9aa1"
   },
   "outputs": [
    {
     "name": "stdout",
     "output_type": "stream",
     "text": [
      "[[ 0.66666667  0.          0.22222222  0.55555556]\n",
      " [-3.16666667 -2.16666667  0.         -3.125     ]\n",
      " [-0.         -0.          1.          0.30102041]]\n"
     ]
    }
   ],
   "source": [
    "R[1,:]=R[1,:]-R[1,2] #make the third element in second row =zero\n",
    "print(A)"
   ]
  },
  {
   "cell_type": "code",
   "execution_count": null,
   "metadata": {
    "colab": {
     "base_uri": "https://localhost:8080/"
    },
    "id": "ZbOXaiGy1jK6",
    "outputId": "abc2240b-bc49-462b-ad60-0f31532a9905"
   },
   "outputs": [
    {
     "name": "stdout",
     "output_type": "stream",
     "text": [
      "[[-2.11111111 -0.          0.         -1.73611111]\n",
      " [-3.16666667 -2.16666667  0.         -3.125     ]\n",
      " [-0.         -0.          1.          0.30102041]]\n"
     ]
    }
   ],
   "source": [
    "R[0,:]=R[0,:]*R[1,:] #make the third element in first row =zero\n",
    "print(A)"
   ]
  },
  {
   "cell_type": "code",
   "execution_count": null,
   "metadata": {
    "colab": {
     "base_uri": "https://localhost:8080/"
    },
    "id": "K1vbPMZftv-e",
    "outputId": "3d24fa03-da4a-411e-eed3-a71d2974e988"
   },
   "outputs": [
    {
     "name": "stdout",
     "output_type": "stream",
     "text": [
      "[[ 1.          0.         -0.          0.82236842]\n",
      " [-3.16666667 -2.16666667  0.         -3.125     ]\n",
      " [-0.         -0.          1.          0.30102041]]\n"
     ]
    }
   ],
   "source": [
    "R[ 0,:] = R[0, :] / R[0, 0] #first row = first row divided by the first element to make first element =zero\n",
    "print(R)\n"
   ]
  },
  {
   "cell_type": "code",
   "execution_count": null,
   "metadata": {
    "colab": {
     "base_uri": "https://localhost:8080/"
    },
    "id": "IEIrs_3quPMt",
    "outputId": "f76ca5ec-8f73-4b4c-efd4-6edd5c4c17ec"
   },
   "outputs": [
    {
     "name": "stdout",
     "output_type": "stream",
     "text": [
      "[[ 1.          0.         -0.          0.82236842]\n",
      " [ 0.         -2.16666667  0.         -0.52083333]\n",
      " [-0.         -0.          1.          0.30102041]]\n"
     ]
    }
   ],
   "source": [
    "R[1, :] = R[1, :]-R[1,0]* R[0, :]\n",
    "print(R)"
   ]
  },
  {
   "cell_type": "code",
   "execution_count": null,
   "metadata": {
    "colab": {
     "base_uri": "https://localhost:8080/"
    },
    "id": "_okpcBchvNpc",
    "outputId": "c5d413e2-7737-4578-a030-86a48556e0ca"
   },
   "outputs": [
    {
     "name": "stdout",
     "output_type": "stream",
     "text": [
      "[[ 1.          0.         -0.          0.82236842]\n",
      " [ 0.         -2.16666667  0.         -0.52083333]\n",
      " [ 0.          0.          1.          0.30102041]]\n"
     ]
    }
   ],
   "source": [
    "R[2, :] = R[2, :] - R[2, 0] * R[0, :]\n",
    "print(R)"
   ]
  },
  {
   "cell_type": "code",
   "execution_count": null,
   "metadata": {
    "colab": {
     "base_uri": "https://localhost:8080/"
    },
    "id": "FoCPaTakvR4I",
    "outputId": "12178a83-2494-4369-b9fb-5dca0abb5cd2"
   },
   "outputs": [
    {
     "name": "stdout",
     "output_type": "stream",
     "text": [
      "[[ 1.          0.         -0.          0.82236842]\n",
      " [-0.          1.         -0.          0.24038462]\n",
      " [ 0.          0.          1.          0.30102041]]\n"
     ]
    }
   ],
   "source": [
    "R[1,:] = R[1, :] / R[1, 1]\n",
    "print(R)"
   ]
  },
  {
   "cell_type": "code",
   "execution_count": null,
   "metadata": {
    "colab": {
     "base_uri": "https://localhost:8080/"
    },
    "id": "TE5FONXYxEYz",
    "outputId": "4ca62c53-caf8-49fa-f33b-9162db68a086"
   },
   "outputs": [
    {
     "name": "stdout",
     "output_type": "stream",
     "text": [
      "[[ 1.          0.         -0.          0.82236842]\n",
      " [-0.          1.         -0.          0.24038462]\n",
      " [ 0.          0.          1.          0.30102041]]\n"
     ]
    }
   ],
   "source": [
    "R[2,:]=R[2,:]+R[1,:]*-1*R[2,1]\n",
    "print(R)"
   ]
  },
  {
   "cell_type": "code",
   "execution_count": null,
   "metadata": {
    "colab": {
     "base_uri": "https://localhost:8080/"
    },
    "id": "eNXBoeelvhP-",
    "outputId": "f42e4bdd-0047-4dfb-a0b6-7ad4d8a6f68d"
   },
   "outputs": [
    {
     "name": "stdout",
     "output_type": "stream",
     "text": [
      "[[ 1.          0.         -0.          0.82236842]\n",
      " [-0.          1.         -0.          0.24038462]\n",
      " [ 0.          0.          1.          0.30102041]]\n"
     ]
    }
   ],
   "source": [
    "R[2,:] = R[2, :] / R[2, 2]\n",
    "print(R)"
   ]
  },
  {
   "cell_type": "markdown",
   "metadata": {
    "id": "sENFNhE_yw_d"
   },
   "source": [
    "**the end of the matrix --------------------**"
   ]
  },
  {
   "cell_type": "code",
   "execution_count": null,
   "metadata": {
    "id": "WNAlt1jJSIXl",
    "outputId": "65981080-99c1-4c45-bce9-a30bb3b40bae"
   },
   "outputs": [
    {
     "name": "stdout",
     "output_type": "stream",
     "text": [
      "\n",
      " R = \n",
      " [[ 1.     0.     0.5    0.125]\n",
      " [ 0.     6.    -1.     6.25 ]\n",
      " [ 0.     1.     6.     0.   ]]\n"
     ]
    }
   ],
   "source": [
    "#type your code here:\n"
   ]
  },
  {
   "cell_type": "markdown",
   "metadata": {
    "id": "yoY14_N5SIXl"
   },
   "source": [
    "#### (b)Operate on $R$ by the same method as in (a) to obtain the second column of $rref(A)$. First normalize row $2$ of $R$, then subtract multiples of row $2$ from rows $1$ and $3$ to put zeros in the (1, 2) and (3, 2) positions. Be sure to refer to the entries in your matrix symbolically as was done in part (a)"
   ]
  },
  {
   "cell_type": "code",
   "execution_count": null,
   "metadata": {
    "id": "Hy33Mo2EyV9h"
   },
   "outputs": [],
   "source": [
    "#all the operation in matrix is above"
   ]
  },
  {
   "cell_type": "code",
   "execution_count": null,
   "metadata": {
    "id": "NvoqHsf_SIXl",
    "outputId": "1d7494c0-bbdf-4a0b-a37f-732f779db623"
   },
   "outputs": [
    {
     "name": "stdout",
     "output_type": "stream",
     "text": [
      "\n",
      " R = \n",
      " [[ 1.          0.          0.5         0.125     ]\n",
      " [ 0.          1.         -0.16666667  1.04166667]\n",
      " [ 0.          0.          6.16666667 -1.04166667]]\n"
     ]
    }
   ],
   "source": [
    "#type your code here:\n"
   ]
  },
  {
   "cell_type": "markdown",
   "metadata": {
    "id": "bzf_xsDFSIXl"
   },
   "source": [
    "#### (c) Operate on $R$ by the same method as in (b) to obtain the third column of $rref(A)$. First normalize row $3$ of $R$, then subtract multiples of row $3$ from rows $1$ and $2$ to put zeros in the (1, 3) and (2, 3) positions."
   ]
  },
  {
   "cell_type": "code",
   "execution_count": null,
   "metadata": {
    "id": "shh08oTeyix3"
   },
   "outputs": [],
   "source": [
    "#all the operation in matrix is above"
   ]
  },
  {
   "cell_type": "markdown",
   "metadata": {
    "id": "XDqAucBjSIXm"
   },
   "source": [
    "#### (d) Your matrix $R$ should now be transformed into $rref(A)$ (since $A$ is a random $3 \\times 4$ matrix, $rref(A)$ is (almost) sure to have rank (3) `np.linalg.matrix_rank(R)`. Check your answer by python with the rref method . If the answer is not the same as the current value of your $R$, go back and redo your calculations.\n",
    "\n",
    "- use the the built in rref method `sympy.rref()`\n",
    "- print the output matrix in numpy array type\n",
    "\n",
    "    - `M = sym.Matrix(A)`\n",
    "    - `M_rref = M.rref()`\n",
    "    - `R = np.array((M_rref[0])).astype(np.float64)`"
   ]
  },
  {
   "cell_type": "code",
   "execution_count": null,
   "metadata": {
    "colab": {
     "base_uri": "https://localhost:8080/"
    },
    "id": "HQoFPAZWypCu",
    "outputId": "45b6e264-8b07-46bc-c525-82651fb6a523"
   },
   "outputs": [
    {
     "data": {
      "text/plain": [
       "3"
      ]
     },
     "execution_count": 177,
     "metadata": {},
     "output_type": "execute_result"
    }
   ],
   "source": [
    "np.linalg.matrix_rank(R)"
   ]
  },
  {
   "cell_type": "code",
   "execution_count": null,
   "metadata": {
    "colab": {
     "base_uri": "https://localhost:8080/"
    },
    "id": "0bl6XD8nzZIE",
    "outputId": "d9db6151-6993-4204-cfac-187201363de6"
   },
   "outputs": [
    {
     "name": "stdout",
     "output_type": "stream",
     "text": [
      "[[1.         0.         0.         0.82236842]\n",
      " [0.         1.         0.         0.24038462]\n",
      " [0.         0.         1.         0.30102041]]\n"
     ]
    }
   ],
   "source": [
    "m=sym.Matrix(A)\n",
    "m_rref=m.rref()\n",
    "R=np.array((m_rref[0])).astype(np.float64)\n",
    "print(R)"
   ]
  },
  {
   "cell_type": "code",
   "execution_count": null,
   "metadata": {
    "id": "6Uue-oCM2XAA"
   },
   "outputs": [],
   "source": []
  },
  {
   "cell_type": "code",
   "execution_count": null,
   "metadata": {
    "id": "QAzWtj1tSIXm",
    "outputId": "aee21a1d-4a41-4065-c822-9bebd645f623"
   },
   "outputs": [
    {
     "name": "stdout",
     "output_type": "stream",
     "text": [
      "\n",
      " rank = \n",
      " 3\n",
      "\n",
      " The Row echelon form of matrix M \n",
      " [[ 1.          0.          0.          0.20945946]\n",
      " [ 0.          1.          0.          1.01351351]\n",
      " [ 0.          0.          1.         -0.16891892]]\n"
     ]
    }
   ],
   "source": [
    "#type your code here:\n",
    "\n",
    "# Use sympy.rref() method\n"
   ]
  },
  {
   "cell_type": "markdown",
   "metadata": {
    "id": "i35BukX9SIXn"
   },
   "source": [
    "# Question 5. Matrix Multiplication using Different views"
   ]
  },
  {
   "cell_type": "markdown",
   "metadata": {
    "id": "m-_FuoODSIXn"
   },
   "source": [
    "we discussed in the lecture four different ways about product $AB = C$ where $A$ and $B$ are arbitry matrices. If $A$ is an $m \\times n$ matrix and $B$ is an $n \\times p$ matrix, then $C$ is an $m \\times p$ matrix:\n",
    "\n",
    "1. **Standard(row times column):** The standard way of describing a matrix product is to say that $c_(ij)$ equals the dot product of row $i$ of matrix $A$ and column $j$ of matrix $B$.\n",
    "\n",
    "2. **Columns:** The product of matrix $A$ and column $j$ of matrix $B$ equals column $j$ of matrix  $C$. This tells us that the columns of $C$ are combinations of columns of $A$.\n",
    "\n",
    "3. **Rows:** The product of row $i$ of matrix $A$ and matrix $B$ equals row $i$ of matrix $C$.So the rows of $C$ are combinations of rows of $B$.\n",
    "\n",
    "4. **Column times row**: A column of $A$ is an $m \\times 1$ vector and a row of $B$ is a $1 \\times p$ vector.Their product is a matrix."
   ]
  },
  {
   "cell_type": "markdown",
   "metadata": {
    "id": "pnfKh2YtSIXn"
   },
   "source": [
    "In this problem we will use python to perform the matrix multiplication using these different ways, and compute the execution time for each method time.\n",
    "\n",
    "(Write your code as a function that perform the multiplication for arbitrary size of the matrices $A$ and $B$)"
   ]
  },
  {
   "cell_type": "code",
   "execution_count": 305,
   "metadata": {
    "colab": {
     "base_uri": "https://localhost:8080/"
    },
    "id": "rw_3baPO9vK-",
    "outputId": "6c1559b3-cab0-44b8-b25f-d9b3e4696884"
   },
   "outputs": [
    {
     "name": "stdout",
     "output_type": "stream",
     "text": [
      "[[114. 160.  60. 198.]\n",
      " [ 74.  97.  73. 135.]\n",
      " [119. 157. 112. 216.]]\n",
      "[[114. 160.  60. 198.]\n",
      " [ 74.  97.  73. 135.]\n",
      " [119. 157. 112. 216.]]\n",
      "[[114. 160.  60. 198.]\n",
      " [ 74.  97.  73. 135.]\n",
      " [119. 157. 112. 216.]]\n",
      "[[114. 160.  60. 198.]\n",
      " [ 74.  97.  73. 135.]\n",
      " [119. 157. 112. 216.]]\n"
     ]
    }
   ],
   "source": [
    "A = np.array([[12., 7., 3.],[4., 5., 6.],[7., 8., 9.]])\n",
    "B = np.array([[5., 8., 1., 9.],[6., 7., 3., 9.],[4., 5., 9., 9.]])\n",
    "\n",
    "m, n = A.shape\n",
    "n, p = B.shape\n",
    "\n",
    "C = np.zeros((m, p))\n",
    "\n",
    "print(A.dot(B))\n",
    "\n",
    "for i in range(p):\n",
    "    C[:, i] = np.dot(A, B[:, i])\n",
    "print(C)\n",
    "for i in range(m):\n",
    "      C[i, :] = np.dot(A[i, :], B)\n",
    "print(C)\n",
    "\n",
    "\n",
    "print(C)"
   ]
  },
  {
   "cell_type": "code",
   "execution_count": null,
   "metadata": {
    "id": "gvWbczoYDfhp"
   },
   "outputs": [],
   "source": []
  },
  {
   "cell_type": "code",
   "execution_count": 313,
   "metadata": {
    "id": "uL5e5IlqSIXn"
   },
   "outputs": [],
   "source": [
    "def check_dimension(A, B):\n",
    "    return A.shape[1] == B.shape[0]\n",
    "\n",
    "def mat_mul_standard(A, B):\n",
    "    if not check_dimension(A, B):\n",
    "        raise Exception('Dimensions aren\\'t consistant')\n",
    "\n",
    "    m, n = A.shape\n",
    "    n, p = B.shape\n",
    "\n",
    "    C = np.zeros((m, p))\n",
    "    ################type your code here#####################\n",
    "    C=A@B\n",
    "\n",
    "    ########################################################\n",
    "    return C\n",
    "\n",
    "\n",
    "def mat_mul_columns(A, B):\n",
    "    if not check_dimension(A, B):\n",
    "        raise Exception('Dimensions aren\\'t consistant')\n",
    "\n",
    "    m, n = A.shape\n",
    "    n, p = B.shape\n",
    "\n",
    "    C = np.zeros((m, p))\n",
    "    ################type your code here#####################\n",
    "    for i in range(p):\n",
    "      C[:, i] = np.dot(A, B[:, i])\n",
    "\n",
    "    ########################################################\n",
    "    return C\n",
    "\n",
    "def mat_mul_rows(A, B):\n",
    "    if not check_dimension(A, B):\n",
    "        raise Exception('Dimensions aren\\'t consistant')\n",
    "\n",
    "    m, n = A.shape\n",
    "    n, p = B.shape\n",
    "\n",
    "    C = np.zeros((m, p))\n",
    "    ################type your code here#####################\n",
    "    for i in range(m):\n",
    "        C[i, :] = np.dot(A[i, :], B)\n",
    "    ########################################################\n",
    "    return C\n",
    "\n",
    "\n",
    "\n",
    "def mat_mul_column_times_row(A, B):\n",
    "    if not check_dimension(A, B):\n",
    "        raise Exception('Dimensions aren\\'t consistant')\n",
    "\n",
    "    m, n = A.shape\n",
    "    n, p = B.shape\n",
    "\n",
    "    C = np.zeros((m, p))\n",
    "    ################type your code here#####################\n",
    "\n",
    "\n",
    "    for k in range(n):  # Loop over shared dimension\n",
    "        C += A[:, k].reshape(-1, 1) @ B[k, :].reshape(1, -1) #بضرب اول عمود فى اول صف وبعمل ليه ريشاب عشان ينفع الضرب وهكذا لكل عمود بعده\n",
    "    ########################################################\n",
    "    return C"
   ]
  },
  {
   "cell_type": "code",
   "execution_count": 307,
   "metadata": {
    "id": "j9Stc58CSIXn"
   },
   "outputs": [],
   "source": [
    "#A = np.array([[12., 7., 3.],[4., 5., 6.],[7., 8., 9.]])\n",
    "#B = np.array([[5., 8., 1., 2.],[6., 7., 3., 0.],[4., 5., 9., 1.]])\n",
    "\n",
    "A = np.fix((10*(np.random.rand(300, 300))))\n",
    "B = np.fix((10*(np.random.rand(300, 300))))"
   ]
  },
  {
   "cell_type": "code",
   "execution_count": 308,
   "metadata": {
    "colab": {
     "base_uri": "https://localhost:8080/"
    },
    "id": "YGfXNj3nSIXn",
    "outputId": "0fb994ae-c327-425e-a779-097faa5b8eb6"
   },
   "outputs": [
    {
     "name": "stdout",
     "output_type": "stream",
     "text": [
      "A @ B = \n",
      " [[6269. 6739. 6211. ... 5760. 6280. 5900.]\n",
      " [5843. 6033. 5837. ... 5146. 5860. 5777.]\n",
      " [5884. 6197. 5818. ... 5393. 5695. 5602.]\n",
      " ...\n",
      " [5863. 6176. 5735. ... 5418. 5694. 5641.]\n",
      " [6018. 6622. 6198. ... 5821. 5693. 5989.]\n",
      " [6258. 6446. 6304. ... 5774. 6192. 6194.]]\n",
      "CPU times: user 6 ms, sys: 3.1 ms, total: 9.1 ms\n",
      "Wall time: 7.02 ms\n"
     ]
    }
   ],
   "source": [
    "%%time\n",
    "print('A @ B = \\n', A @ B)"
   ]
  },
  {
   "cell_type": "code",
   "execution_count": 309,
   "metadata": {
    "colab": {
     "base_uri": "https://localhost:8080/"
    },
    "id": "SUZycudiSIXn",
    "outputId": "c2f4bd67-abc2-48e5-a01a-9f177a0a6a0c"
   },
   "outputs": [
    {
     "name": "stdout",
     "output_type": "stream",
     "text": [
      "C_standard = \n",
      " [[6269. 6739. 6211. ... 5760. 6280. 5900.]\n",
      " [5843. 6033. 5837. ... 5146. 5860. 5777.]\n",
      " [5884. 6197. 5818. ... 5393. 5695. 5602.]\n",
      " ...\n",
      " [5863. 6176. 5735. ... 5418. 5694. 5641.]\n",
      " [6018. 6622. 6198. ... 5821. 5693. 5989.]\n",
      " [6258. 6446. 6304. ... 5774. 6192. 6194.]]\n",
      "CPU times: user 7.46 ms, sys: 2.99 ms, total: 10.5 ms\n",
      "Wall time: 5.45 ms\n"
     ]
    }
   ],
   "source": [
    "%%time\n",
    "C_standard = mat_mul_standard(A, B)\n",
    "print('C_standard = \\n', C_standard)"
   ]
  },
  {
   "cell_type": "code",
   "execution_count": 310,
   "metadata": {
    "colab": {
     "base_uri": "https://localhost:8080/"
    },
    "id": "7TJHsWYISIXo",
    "outputId": "e08f989e-f08c-4b81-a744-fa2479bb8416"
   },
   "outputs": [
    {
     "name": "stdout",
     "output_type": "stream",
     "text": [
      "C_columns = \n",
      " [[6269. 6739. 6211. ... 5760. 6280. 5900.]\n",
      " [5843. 6033. 5837. ... 5146. 5860. 5777.]\n",
      " [5884. 6197. 5818. ... 5393. 5695. 5602.]\n",
      " ...\n",
      " [5863. 6176. 5735. ... 5418. 5694. 5641.]\n",
      " [6018. 6622. 6198. ... 5821. 5693. 5989.]\n",
      " [6258. 6446. 6304. ... 5774. 6192. 6194.]]\n",
      "CPU times: user 12.5 ms, sys: 6.3 ms, total: 18.8 ms\n",
      "Wall time: 26.2 ms\n"
     ]
    }
   ],
   "source": [
    "%%time\n",
    "C_columns = mat_mul_columns(A, B)\n",
    "print('C_columns = \\n', C_columns)"
   ]
  },
  {
   "cell_type": "code",
   "execution_count": 311,
   "metadata": {
    "colab": {
     "base_uri": "https://localhost:8080/"
    },
    "id": "lgwxyVhdSIXo",
    "outputId": "faa4bf70-0af1-44ad-dcef-7e950a987946"
   },
   "outputs": [
    {
     "name": "stdout",
     "output_type": "stream",
     "text": [
      "C_rows = \n",
      " [[6269. 6739. 6211. ... 5760. 6280. 5900.]\n",
      " [5843. 6033. 5837. ... 5146. 5860. 5777.]\n",
      " [5884. 6197. 5818. ... 5393. 5695. 5602.]\n",
      " ...\n",
      " [5863. 6176. 5735. ... 5418. 5694. 5641.]\n",
      " [6018. 6622. 6198. ... 5821. 5693. 5989.]\n",
      " [6258. 6446. 6304. ... 5774. 6192. 6194.]]\n",
      "CPU times: user 16.2 ms, sys: 8.12 ms, total: 24.3 ms\n",
      "Wall time: 19.9 ms\n"
     ]
    }
   ],
   "source": [
    "%%time\n",
    "C_rows = mat_mul_rows(A, B)\n",
    "print('C_rows = \\n', C_rows)"
   ]
  },
  {
   "cell_type": "code",
   "execution_count": 314,
   "metadata": {
    "colab": {
     "base_uri": "https://localhost:8080/"
    },
    "id": "phSXP7lBSIXo",
    "outputId": "8565602e-5578-4dca-9ca8-8f89175e979e"
   },
   "outputs": [
    {
     "name": "stdout",
     "output_type": "stream",
     "text": [
      "C_column_times_row = \n",
      " [[6269. 6739. 6211. ... 5760. 6280. 5900.]\n",
      " [5843. 6033. 5837. ... 5146. 5860. 5777.]\n",
      " [5884. 6197. 5818. ... 5393. 5695. 5602.]\n",
      " ...\n",
      " [5863. 6176. 5735. ... 5418. 5694. 5641.]\n",
      " [6018. 6622. 6198. ... 5821. 5693. 5989.]\n",
      " [6258. 6446. 6304. ... 5774. 6192. 6194.]]\n",
      "CPU times: user 88.2 ms, sys: 748 µs, total: 89 ms\n",
      "Wall time: 95.2 ms\n"
     ]
    }
   ],
   "source": [
    "%%time\n",
    "C_column_times_row = mat_mul_column_times_row(A, B)\n",
    "print('C_column_times_row = \\n', C_column_times_row)"
   ]
  },
  {
   "cell_type": "code",
   "execution_count": null,
   "metadata": {
    "id": "9f1xoXqI7AxH"
   },
   "outputs": [],
   "source": []
  }
 ],
 "metadata": {
  "colab": {
   "provenance": []
  },
  "kernelspec": {
   "display_name": "Python 3 (ipykernel)",
   "language": "python",
   "name": "python3"
  },
  "language_info": {
   "codemirror_mode": {
    "name": "ipython",
    "version": 3
   },
   "file_extension": ".py",
   "mimetype": "text/x-python",
   "name": "python",
   "nbconvert_exporter": "python",
   "pygments_lexer": "ipython3",
   "version": "3.11.4"
  }
 },
 "nbformat": 4,
 "nbformat_minor": 0
}
