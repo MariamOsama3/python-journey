{
  "cells": [
    {
      "cell_type": "markdown",
      "metadata": {
        "id": "aIS6ti1g1xuK"
      },
      "source": [
        "# LAB 2: Linear Equations and Matrix Algebra\n",
        "\n",
        "In this lab you will use python to study the following topics:\n",
        "\n",
        "- Solving a system of linear equations by using the reduced row echelon form of the augmented matrix of the system.\n",
        "\n",
        "- Forming linear combinations of a set of vectors and the fundamental concepts of linear independence.\n",
        "\n",
        "- Matrix multiplication and its properties."
      ]
    },
    {
      "cell_type": "markdown",
      "metadata": {
        "id": "Bx1QvZzy1xuL"
      },
      "source": [
        "# First: you should run this cell"
      ]
    },
    {
      "cell_type": "code",
      "execution_count": 5,
      "metadata": {
        "id": "8co86fFD1xuM"
      },
      "outputs": [],
      "source": [
        "# Make all numpy available via shorter 'np' prefix\n",
        "import numpy as np\n",
        "# Make all sympy available via shorter 'sym' prefix\n",
        "import sympy as sym\n",
        "\n",
        "\n",
        "# matplotlib library\n",
        "import matplotlib.pyplot as plt\n",
        "from matplotlib import cm\n",
        "from matplotlib.ticker import LinearLocator\n",
        "\n",
        "\n",
        "def rvect(m):\n",
        "    return np.fix((10 * (np.random.rand(m, 1))))\n",
        "\n",
        "\n",
        "def rmat(m, n):\n",
        "    return np.fix((10 * (np.random.rand(m, n))))\n",
        "\n",
        "\n",
        "def rref(A):\n",
        "    return np.array(sym.Matrix(A).rref(iszerofunc=lambda x:sym.comp(x,0,1e-13))[0], np.float64)\n",
        "\n",
        "\n",
        "def nulbasis(A):\n",
        "    A = sym.Matrix(A)\n",
        "    tmp =  A.nullspace()\n",
        "    n = len(tmp)\n",
        "    m = len(tmp[0])\n",
        "    N = np.zeros((m,n))\n",
        "    for i in range(m):\n",
        "        for j in range(n):\n",
        "                N[i,j] = tmp[j][i]\n",
        "    return N"
      ]
    },
    {
      "cell_type": "markdown",
      "metadata": {
        "id": "9AMcMVCK1xuN"
      },
      "source": [
        "# Question 1. Solving Ax = b"
      ]
    },
    {
      "cell_type": "markdown",
      "metadata": {
        "id": "8VXYTFZV1xuN"
      },
      "source": [
        "In this question you will find the general solution $x \\in R^3$ to a linear system $Ax = b$ of 3 equations in 5\n",
        "variables $x_1, x_2, x_3, x_4, x_5$. Here $A$ is the $3 \\times 5$ coeffient matrix system $b \\in R^3$ is the given right-hand side of the system"
      ]
    },
    {
      "cell_type": "markdown",
      "metadata": {
        "id": "y8V3WJZi1xuN"
      },
      "source": [
        "<h4>\n",
        "    (a) Use rmat function that was defined in the first cell to generate a random $3 \\times5$ integer matrix $A$ and to check that columns 1, 2, 3 of $A$ are the pivot columns.\n",
        "</h4>\n",
        "\n",
        "- `A = rmat(3, 5)`\n",
        "- `np.linalg.matrix_rank(A[:, 0:3])`\n"
      ]
    },
    {
      "cell_type": "code",
      "source": [
        "A = rmat(3, 5)\n",
        "np.linalg.matrix_rank(A[:, 0:3])"
      ],
      "metadata": {
        "colab": {
          "base_uri": "https://localhost:8080/"
        },
        "id": "aY4wuoDa1_-W",
        "outputId": "92dfe9eb-e31d-4a0b-b89b-8d983eb2df99"
      },
      "execution_count": 6,
      "outputs": [
        {
          "output_type": "execute_result",
          "data": {
            "text/plain": [
              "3"
            ]
          },
          "metadata": {},
          "execution_count": 6
        }
      ]
    },
    {
      "cell_type": "code",
      "source": [
        "A"
      ],
      "metadata": {
        "colab": {
          "base_uri": "https://localhost:8080/"
        },
        "id": "b6mOgw4d2Ntk",
        "outputId": "ae84dcb1-9772-437b-8724-18cd9e6b91c6"
      },
      "execution_count": null,
      "outputs": [
        {
          "output_type": "execute_result",
          "data": {
            "text/plain": [
              "array([[0., 4., 7., 8., 1.],\n",
              "       [4., 8., 0., 3., 2.],\n",
              "       [6., 4., 8., 6., 8.]])"
            ]
          },
          "metadata": {},
          "execution_count": 80
        }
      ]
    },
    {
      "cell_type": "code",
      "execution_count": null,
      "metadata": {
        "id": "fezuWB1h1xuN"
      },
      "outputs": [],
      "source": [
        "#type your code here:\n"
      ]
    },
    {
      "cell_type": "markdown",
      "metadata": {
        "id": "5mcZQ9CS1xuO"
      },
      "source": [
        "Note the use of the colon operator to select columns 1, 2, 3 of $A$. If the rank is less than 3, generate a new A\n",
        "(this is unlikely, but it can happen). Include all the matrices that you generate this way in your lab report.\n",
        "<h4>\n",
        "When you have an $A$ for which the rank of the first three columns is 3:\n",
        "</h4>\n",
        "\n",
        "- Generate a random vector $b \\in R^3$\n",
        "\n",
        "- The reduced row echelon form R of the augmented matrix $\\begin{bmatrix} A & b   \\end{bmatrix}$:\n"
      ]
    },
    {
      "cell_type": "code",
      "source": [
        "b=rvect(3)\n",
        "b"
      ],
      "metadata": {
        "colab": {
          "base_uri": "https://localhost:8080/"
        },
        "id": "4JhD6elH2nsz",
        "outputId": "7cc0b627-b978-4efb-8c7a-f92f29d3495e"
      },
      "execution_count": 19,
      "outputs": [
        {
          "output_type": "execute_result",
          "data": {
            "text/plain": [
              "array([[0.],\n",
              "       [2.],\n",
              "       [4.]])"
            ]
          },
          "metadata": {},
          "execution_count": 19
        }
      ]
    },
    {
      "cell_type": "code",
      "source": [
        "agmatrix=np.hstack((A,b))\n",
        "agmatrix"
      ],
      "metadata": {
        "colab": {
          "base_uri": "https://localhost:8080/"
        },
        "id": "wa27Omh92zV8",
        "outputId": "780279ca-d13d-46f6-dc42-6e0556ab00de"
      },
      "execution_count": 20,
      "outputs": [
        {
          "output_type": "execute_result",
          "data": {
            "text/plain": [
              "array([[7., 5., 2., 2., 7., 0.],\n",
              "       [8., 1., 9., 6., 7., 2.],\n",
              "       [4., 3., 5., 1., 4., 4.]])"
            ]
          },
          "metadata": {},
          "execution_count": 20
        }
      ]
    },
    {
      "cell_type": "code",
      "source": [
        "R=agmatrix"
      ],
      "metadata": {
        "id": "ONSFzM4J7xr7"
      },
      "execution_count": 21,
      "outputs": []
    },
    {
      "cell_type": "code",
      "source": [
        "R[0,:]=R[0,:]-R[0,1] #make the second element in first row =zero\n",
        "print(R)"
      ],
      "metadata": {
        "colab": {
          "base_uri": "https://localhost:8080/"
        },
        "id": "b2xUjy_f7B8c",
        "outputId": "250283de-3dc6-4770-e9df-5f47d218a100"
      },
      "execution_count": 22,
      "outputs": [
        {
          "output_type": "stream",
          "name": "stdout",
          "text": [
            "[[ 2.  0. -3. -3.  2. -5.]\n",
            " [ 8.  1.  9.  6.  7.  2.]\n",
            " [ 4.  3.  5.  1.  4.  4.]]\n"
          ]
        }
      ]
    },
    {
      "cell_type": "code",
      "source": [
        "R[1,:]=R[1,:]-R[1,2] #make the third element in second row =zero\n",
        "print(R)"
      ],
      "metadata": {
        "colab": {
          "base_uri": "https://localhost:8080/"
        },
        "id": "1QTli3bM7NZG",
        "outputId": "9fc65b0c-c7dd-498d-b149-825b3998eef5"
      },
      "execution_count": 23,
      "outputs": [
        {
          "output_type": "stream",
          "name": "stdout",
          "text": [
            "[[ 2.  0. -3. -3.  2. -5.]\n",
            " [-1. -8.  0. -3. -2. -7.]\n",
            " [ 4.  3.  5.  1.  4.  4.]]\n"
          ]
        }
      ]
    },
    {
      "cell_type": "code",
      "source": [
        "R[0,:]=R[0,:]*R[1,:] #make the third element in first row =zero\n",
        "print(R)"
      ],
      "metadata": {
        "colab": {
          "base_uri": "https://localhost:8080/"
        },
        "id": "y0Xf5_-q7Xkp",
        "outputId": "9a64b2b1-0021-466b-c83b-a799137a0b16"
      },
      "execution_count": 24,
      "outputs": [
        {
          "output_type": "stream",
          "name": "stdout",
          "text": [
            "[[-2. -0. -0.  9. -4. 35.]\n",
            " [-1. -8.  0. -3. -2. -7.]\n",
            " [ 4.  3.  5.  1.  4.  4.]]\n"
          ]
        }
      ]
    },
    {
      "cell_type": "code",
      "source": [
        "R[ 0,:] = R[0, :] / R[0, 0] #first row = first row divided by the first element to make first element =zero\n",
        "print(R)\n"
      ],
      "metadata": {
        "colab": {
          "base_uri": "https://localhost:8080/"
        },
        "id": "VEEHu-5E8P6z",
        "outputId": "fd744dc1-b321-4e3e-f8b9-d2f0fbf3c707"
      },
      "execution_count": 25,
      "outputs": [
        {
          "output_type": "stream",
          "name": "stdout",
          "text": [
            "[[  1.    0.    0.   -4.5   2.  -17.5]\n",
            " [ -1.   -8.    0.   -3.   -2.   -7. ]\n",
            " [  4.    3.    5.    1.    4.    4. ]]\n"
          ]
        }
      ]
    },
    {
      "cell_type": "code",
      "source": [
        "R[1, :] = R[1, :]-R[1,0]* R[0, :]\n",
        "print(R)"
      ],
      "metadata": {
        "colab": {
          "base_uri": "https://localhost:8080/"
        },
        "id": "BnI2uePR8VME",
        "outputId": "3eb72d24-6864-450d-c6b0-dcc45b35bd34"
      },
      "execution_count": 26,
      "outputs": [
        {
          "output_type": "stream",
          "name": "stdout",
          "text": [
            "[[  1.    0.    0.   -4.5   2.  -17.5]\n",
            " [  0.   -8.    0.   -7.5   0.  -24.5]\n",
            " [  4.    3.    5.    1.    4.    4. ]]\n"
          ]
        }
      ]
    },
    {
      "cell_type": "code",
      "source": [
        "R[2, :] = R[2, :] - R[2, 0] * R[0, :]\n",
        "print(R)"
      ],
      "metadata": {
        "colab": {
          "base_uri": "https://localhost:8080/"
        },
        "id": "PV5TZgRU8ZwH",
        "outputId": "916e10f3-3dfc-4e42-afe1-caccd5208190"
      },
      "execution_count": 27,
      "outputs": [
        {
          "output_type": "stream",
          "name": "stdout",
          "text": [
            "[[  1.    0.    0.   -4.5   2.  -17.5]\n",
            " [  0.   -8.    0.   -7.5   0.  -24.5]\n",
            " [  0.    3.    5.   19.   -4.   74. ]]\n"
          ]
        }
      ]
    },
    {
      "cell_type": "code",
      "source": [
        "R[1,:] = R[1, :] / R[1, 1]\n",
        "print(R)"
      ],
      "metadata": {
        "colab": {
          "base_uri": "https://localhost:8080/"
        },
        "id": "tCHR9Gri8fek",
        "outputId": "978b40c5-8a55-454b-deda-1d9cdd7436e2"
      },
      "execution_count": 28,
      "outputs": [
        {
          "output_type": "stream",
          "name": "stdout",
          "text": [
            "[[  1.       0.       0.      -4.5      2.     -17.5   ]\n",
            " [ -0.       1.      -0.       0.9375  -0.       3.0625]\n",
            " [  0.       3.       5.      19.      -4.      74.    ]]\n"
          ]
        }
      ]
    },
    {
      "cell_type": "code",
      "source": [
        "R[2,:]=R[2,:]+R[1,:]*-1*R[2,1]\n",
        "print(R)"
      ],
      "metadata": {
        "colab": {
          "base_uri": "https://localhost:8080/"
        },
        "id": "hLDl9jJU8kqN",
        "outputId": "3cc7fa2e-5667-4b28-80c9-f65c0fbdadb5"
      },
      "execution_count": 29,
      "outputs": [
        {
          "output_type": "stream",
          "name": "stdout",
          "text": [
            "[[  1.       0.       0.      -4.5      2.     -17.5   ]\n",
            " [ -0.       1.      -0.       0.9375  -0.       3.0625]\n",
            " [  0.       0.       5.      16.1875  -4.      64.8125]]\n"
          ]
        }
      ]
    },
    {
      "cell_type": "code",
      "source": [
        "R[2,:] = R[2, :] / R[2, 2]\n",
        "print(R)"
      ],
      "metadata": {
        "colab": {
          "base_uri": "https://localhost:8080/"
        },
        "id": "x_rduR6l8sfc",
        "outputId": "241c64df-1844-4c8a-ed8a-58dd956fb6b2"
      },
      "execution_count": 30,
      "outputs": [
        {
          "output_type": "stream",
          "name": "stdout",
          "text": [
            "[[  1.       0.       0.      -4.5      2.     -17.5   ]\n",
            " [ -0.       1.      -0.       0.9375  -0.       3.0625]\n",
            " [  0.       0.       1.       3.2375  -0.8     12.9625]]\n"
          ]
        }
      ]
    },
    {
      "cell_type": "code",
      "execution_count": 31,
      "metadata": {
        "id": "6p-xF52M1xuO"
      },
      "outputs": [],
      "source": [
        "#type your code here:\n"
      ]
    },
    {
      "cell_type": "markdown",
      "metadata": {
        "id": "IQW_mh101xuO"
      },
      "source": [
        "<h4>\n",
        "     To get the reduced row echelon form S = rref(A) just remove the last column from R:\n",
        "</h4>\n",
        "\n",
        "- `S = R[:, :-1] or R[:, 0:5]`\n"
      ]
    },
    {
      "cell_type": "code",
      "source": [
        "S = R[:, :-1]\n",
        "S"
      ],
      "metadata": {
        "colab": {
          "base_uri": "https://localhost:8080/"
        },
        "id": "1EDnNtFL4jb_",
        "outputId": "438ddcbb-2a9e-4641-a711-7fff415bde5f"
      },
      "execution_count": 32,
      "outputs": [
        {
          "output_type": "execute_result",
          "data": {
            "text/plain": [
              "array([[ 1.    ,  0.    ,  0.    , -4.5   ,  2.    ],\n",
              "       [-0.    ,  1.    , -0.    ,  0.9375, -0.    ],\n",
              "       [ 0.    ,  0.    ,  1.    ,  3.2375, -0.8   ]])"
            ]
          },
          "metadata": {},
          "execution_count": 32
        }
      ]
    },
    {
      "cell_type": "code",
      "execution_count": 33,
      "metadata": {
        "id": "nsvKChZA1xuO"
      },
      "outputs": [],
      "source": [
        "#type your code here:\n",
        "\n"
      ]
    },
    {
      "cell_type": "markdown",
      "metadata": {
        "id": "AI2b-VyV1xuP"
      },
      "source": [
        "(Note the use of the colon operator to select columns 1 to 5 of R).\n",
        "<h4>Check by python that S = rref(A)</h4>"
      ]
    },
    {
      "cell_type": "code",
      "source": [
        "R=rref(agmatrix)\n",
        "R"
      ],
      "metadata": {
        "colab": {
          "base_uri": "https://localhost:8080/"
        },
        "id": "uSOCs-md9ANh",
        "outputId": "c1bed95b-eb86-4c34-d874-3f3fd4d9cc54"
      },
      "execution_count": 34,
      "outputs": [
        {
          "output_type": "execute_result",
          "data": {
            "text/plain": [
              "array([[  1.    ,   0.    ,   0.    ,  -4.5   ,   2.    , -17.5   ],\n",
              "       [  0.    ,   1.    ,   0.    ,   0.9375,   0.    ,   3.0625],\n",
              "       [  0.    ,   0.    ,   1.    ,   3.2375,  -0.8   ,  12.9625]])"
            ]
          },
          "metadata": {},
          "execution_count": 34
        }
      ]
    },
    {
      "cell_type": "code",
      "execution_count": null,
      "metadata": {
        "id": "36Uyifs91xuP",
        "outputId": "e3ecfabd-a47f-4e98-8238-5d886a9705c2"
      },
      "outputs": [
        {
          "name": "stdout",
          "output_type": "stream",
          "text": [
            "--------rref(A)------------\n",
            "[[ 1.          0.          0.         -0.33333333  0.55555556]\n",
            " [ 0.          1.          0.          0.03703704  0.38271605]\n",
            " [ 0.          0.          1.          1.83333333 -0.72222222]]\n",
            "---------------------\n"
          ]
        }
      ],
      "source": [
        "#type your code here:\n"
      ]
    },
    {
      "cell_type": "markdown",
      "metadata": {
        "id": "VWyRDPaf1xuP"
      },
      "source": [
        "1. Which columns of $S$ are the pivot columns?\n",
        "2. What is the rank of $R$ and the rank of $A$?\n",
        "3. What is the nullity of $A$ and which variables $x_i$ are be the free variables?\n",
        "4. Why does the equation $Ax = b$ have a solution?\n",
        "\n"
      ]
    },
    {
      "cell_type": "markdown",
      "source": [
        "1. the first three columns\n",
        "\n",
        "2. 3\n",
        "\n",
        "3. x4,x5\n",
        "\n",
        "4. the number of variable in more than the number of equations so the solution is the space where the first three vector can intersection so it have infiniti number of solution"
      ],
      "metadata": {
        "id": "bfJhSg-4-M0d"
      }
    },
    {
      "cell_type": "markdown",
      "metadata": {
        "id": "_1RyvO1I1xuP"
      },
      "source": [
        "#### Print the rank of A, R, and S matrices"
      ]
    },
    {
      "cell_type": "code",
      "source": [
        "rank_A = np.linalg.matrix_rank(A)\n",
        "rank_A"
      ],
      "metadata": {
        "colab": {
          "base_uri": "https://localhost:8080/"
        },
        "id": "_WWfRNYAB4sU",
        "outputId": "aeab1bd6-a55a-4dba-9111-6531442f93a2"
      },
      "execution_count": null,
      "outputs": [
        {
          "output_type": "execute_result",
          "data": {
            "text/plain": [
              "3"
            ]
          },
          "metadata": {},
          "execution_count": 44
        }
      ]
    },
    {
      "cell_type": "code",
      "source": [
        "rank_R = np.linalg.matrix_rank(R)\n",
        "rank_R"
      ],
      "metadata": {
        "colab": {
          "base_uri": "https://localhost:8080/"
        },
        "id": "yeDd00gTFkju",
        "outputId": "d65b2609-7a97-4e1c-ba46-41d728eca82b"
      },
      "execution_count": null,
      "outputs": [
        {
          "output_type": "execute_result",
          "data": {
            "text/plain": [
              "3"
            ]
          },
          "metadata": {},
          "execution_count": 45
        }
      ]
    },
    {
      "cell_type": "code",
      "source": [
        "rank_s = np.linalg.matrix_rank(S)\n",
        "rank_s"
      ],
      "metadata": {
        "colab": {
          "base_uri": "https://localhost:8080/"
        },
        "id": "eeBmW8P0FsFX",
        "outputId": "762c68e5-952f-43db-e5fa-67ae9c9b04d7"
      },
      "execution_count": null,
      "outputs": [
        {
          "output_type": "execute_result",
          "data": {
            "text/plain": [
              "3"
            ]
          },
          "metadata": {},
          "execution_count": 46
        }
      ]
    },
    {
      "cell_type": "code",
      "execution_count": null,
      "metadata": {
        "id": "oYPer4KG1xuP"
      },
      "outputs": [],
      "source": [
        "#type your code here:\n"
      ]
    },
    {
      "cell_type": "markdown",
      "metadata": {
        "id": "UJ3VwsGi1xuP"
      },
      "source": [
        "#### (b) Use python to obtain (the last column of $R$), `c = R[:, [-1]]`. set `x = np.block([[c], [0], [0]])`. $x \\in R^5$ and the last two components of $x$ are zeros. then:\n",
        "\n",
        "\n",
        "- Calculate by python that $Ax - b = 0$ and $Sx - c = 0$.\n",
        "\n",
        "\n"
      ]
    },
    {
      "cell_type": "code",
      "source": [
        "c = R[:, [-1]]\n",
        "x = np.block([[c], [0], [0]])\n",
        "result1 = A @ x - b\n",
        "result2 = S @ x - c\n",
        "print(c,\"\\n\")\n",
        "print(x,\"\\n\")\n",
        "\n",
        "print(result1)\n",
        "print(result2)"
      ],
      "metadata": {
        "colab": {
          "base_uri": "https://localhost:8080/"
        },
        "id": "uyn-LnVpHY5s",
        "outputId": "9f3a9946-8cb4-4fc8-ef0f-d5f9d647e1e5"
      },
      "execution_count": 35,
      "outputs": [
        {
          "output_type": "stream",
          "name": "stdout",
          "text": [
            "[[-17.5   ]\n",
            " [  3.0625]\n",
            " [ 12.9625]] \n",
            "\n",
            "[[-17.5   ]\n",
            " [  3.0625]\n",
            " [ 12.9625]\n",
            " [  0.    ]\n",
            " [  0.    ]] \n",
            "\n",
            "[[-81.2625]\n",
            " [-22.275 ]\n",
            " [  0.    ]]\n",
            "[[0.]\n",
            " [0.]\n",
            " [0.]]\n"
          ]
        }
      ]
    },
    {
      "cell_type": "code",
      "execution_count": 36,
      "metadata": {
        "id": "vce-ehao1xuP"
      },
      "outputs": [],
      "source": [
        "#type your code here:\n"
      ]
    },
    {
      "cell_type": "markdown",
      "metadata": {
        "id": "FnmjqSR41xuP"
      },
      "source": [
        "#### (c) Use python to calculate\n",
        "\n",
        "- `u = np.block([[-S[:, [3]]], [1], [0]])`\n",
        "- `v = np.block([[-S[:, [4]]], [0], [1]])`\n",
        "\n",
        "\n",
        "1. Give a handwritten explanation, using symbols and linear algebra, rather than numbers, to show why u and v are the vectors that appear in the vector form of the general solution to Ax = 0.\n",
        "    - Confirm by calculating `S @ u`, `A @ u`, `S @ v`, `A @ v`. You should get vectors that are (approximately) zero.\n",
        "    - Now generate a random linear combination of u and v by the commands `s = np.random.rand(1)`, `t = np.random.rand(1)`, and `y = s * u + t * v` (Note that each occurrence of np.random.rand(1) generates a different random coefficient).\n",
        "\n",
        "2. What properties of matrix and vector algebra ensure that Ay = 0?\n",
        "    - Confirm by a python calculation that `A @ y` is approximately zero.\n",
        "\n",
        "\n",
        "\n",
        "\n",
        "\n"
      ]
    },
    {
      "cell_type": "code",
      "source": [
        "u = np.block([[-S[:, [3]]], [1], [0]])\n",
        "v = np.block([[-S[:, [4]]], [0], [1]])\n",
        "print(u,\"\\n\")\n",
        "print(v,\"\\n\")"
      ],
      "metadata": {
        "colab": {
          "base_uri": "https://localhost:8080/"
        },
        "id": "CckGTC0HLMdS",
        "outputId": "054d8bf1-0edd-4e0b-df6b-4c2948c37bc2"
      },
      "execution_count": 37,
      "outputs": [
        {
          "output_type": "stream",
          "name": "stdout",
          "text": [
            "[[ 4.5   ]\n",
            " [-0.9375]\n",
            " [-3.2375]\n",
            " [ 1.    ]\n",
            " [ 0.    ]] \n",
            "\n",
            "[[-2. ]\n",
            " [ 0. ]\n",
            " [ 0.8]\n",
            " [ 0. ]\n",
            " [ 1. ]] \n",
            "\n"
          ]
        }
      ]
    },
    {
      "cell_type": "code",
      "source": [
        "S@u"
      ],
      "metadata": {
        "colab": {
          "base_uri": "https://localhost:8080/"
        },
        "id": "4gpAktDihd1U",
        "outputId": "9cdd8dbb-7631-4a8d-b19b-48bf2b373b0a"
      },
      "execution_count": 38,
      "outputs": [
        {
          "output_type": "execute_result",
          "data": {
            "text/plain": [
              "array([[0.],\n",
              "       [0.],\n",
              "       [0.]])"
            ]
          },
          "metadata": {},
          "execution_count": 38
        }
      ]
    },
    {
      "cell_type": "code",
      "source": [
        "A@u"
      ],
      "metadata": {
        "colab": {
          "base_uri": "https://localhost:8080/"
        },
        "id": "z2f4h-_Pib_T",
        "outputId": "2f065e89-4db1-4623-e067-0306ac3c2756"
      },
      "execution_count": 39,
      "outputs": [
        {
          "output_type": "execute_result",
          "data": {
            "text/plain": [
              "array([[22.3375],\n",
              "       [11.925 ],\n",
              "       [ 0.    ]])"
            ]
          },
          "metadata": {},
          "execution_count": 39
        }
      ]
    },
    {
      "cell_type": "code",
      "source": [
        "S@v"
      ],
      "metadata": {
        "colab": {
          "base_uri": "https://localhost:8080/"
        },
        "id": "hM7bAOmJihUy",
        "outputId": "976a2cb4-5769-4bae-92ed-124f128a6c53"
      },
      "execution_count": 40,
      "outputs": [
        {
          "output_type": "execute_result",
          "data": {
            "text/plain": [
              "array([[0.],\n",
              "       [0.],\n",
              "       [0.]])"
            ]
          },
          "metadata": {},
          "execution_count": 40
        }
      ]
    },
    {
      "cell_type": "code",
      "source": [
        "A@v"
      ],
      "metadata": {
        "colab": {
          "base_uri": "https://localhost:8080/"
        },
        "id": "a0LNj5F-imQH",
        "outputId": "2a7245cc-f8f5-4a4f-ea73-95f6ce44838d"
      },
      "execution_count": 41,
      "outputs": [
        {
          "output_type": "execute_result",
          "data": {
            "text/plain": [
              "array([[-5.4],\n",
              "       [-1.8],\n",
              "       [ 0. ]])"
            ]
          },
          "metadata": {},
          "execution_count": 41
        }
      ]
    },
    {
      "cell_type": "code",
      "source": [
        "s = np.random.rand(1)\n",
        "s"
      ],
      "metadata": {
        "colab": {
          "base_uri": "https://localhost:8080/"
        },
        "id": "pvdWhLIyipjL",
        "outputId": "dc1bd4f5-eb95-4bc5-df5e-8acd68c75ebb"
      },
      "execution_count": 42,
      "outputs": [
        {
          "output_type": "execute_result",
          "data": {
            "text/plain": [
              "array([0.14204406])"
            ]
          },
          "metadata": {},
          "execution_count": 42
        }
      ]
    },
    {
      "cell_type": "code",
      "source": [
        "t = np.random.rand(1)\n",
        "t"
      ],
      "metadata": {
        "colab": {
          "base_uri": "https://localhost:8080/"
        },
        "id": "FNBly8N3hp-v",
        "outputId": "69ee9e0c-a484-4db5-a2b0-01d4bbc1ab3a"
      },
      "execution_count": 43,
      "outputs": [
        {
          "output_type": "execute_result",
          "data": {
            "text/plain": [
              "array([0.31623929])"
            ]
          },
          "metadata": {},
          "execution_count": 43
        }
      ]
    },
    {
      "cell_type": "code",
      "source": [
        "y = s * u + t * v\n",
        "y"
      ],
      "metadata": {
        "colab": {
          "base_uri": "https://localhost:8080/"
        },
        "id": "uZrS15mfj1Ws",
        "outputId": "51347e10-775b-4c9d-dc7b-d5b432a140af"
      },
      "execution_count": 44,
      "outputs": [
        {
          "output_type": "execute_result",
          "data": {
            "text/plain": [
              "array([[ 0.00671967],\n",
              "       [-0.1331663 ],\n",
              "       [-0.2068762 ],\n",
              "       [ 0.14204406],\n",
              "       [ 0.31623929]])"
            ]
          },
          "metadata": {},
          "execution_count": 44
        }
      ]
    },
    {
      "cell_type": "code",
      "source": [
        "A@y"
      ],
      "metadata": {
        "colab": {
          "base_uri": "https://localhost:8080/"
        },
        "id": "9bLm1NVrj62a",
        "outputId": "de5aa341-e55f-4c08-bc70-d13d1bfe0069"
      },
      "execution_count": 45,
      "outputs": [
        {
          "output_type": "execute_result",
          "data": {
            "text/plain": [
              "array([[1.46521695e+00],\n",
              "       [1.12464466e+00],\n",
              "       [4.44089210e-16]])"
            ]
          },
          "metadata": {},
          "execution_count": 45
        }
      ]
    },
    {
      "cell_type": "code",
      "execution_count": null,
      "metadata": {
        "id": "8L371E2q1xuQ",
        "outputId": "92bcafee-4e02-4649-eeed-c0fcbd099430"
      },
      "outputs": [
        {
          "name": "stdout",
          "output_type": "stream",
          "text": [
            "-----------u-----------\n",
            "[[ 0.33333333]\n",
            " [-0.03703704]\n",
            " [-1.83333333]\n",
            " [ 1.        ]\n",
            " [ 0.        ]]\n",
            "----------------------\n",
            "-----------v-----------\n",
            "[[-0.55555556]\n",
            " [-0.38271605]\n",
            " [ 0.72222222]\n",
            " [ 0.        ]\n",
            " [ 1.        ]]\n",
            "----------------------\n",
            "-----------S @ u-----------\n",
            "[[0.]\n",
            " [0.]\n",
            " [0.]]\n",
            "----------------------\n",
            "----------A @ u------------\n",
            "[[ 0.00000000e+00]\n",
            " [-2.22044605e-16]\n",
            " [ 0.00000000e+00]]\n",
            "----------------------\n",
            "----------S @ v------------\n",
            "[[0.]\n",
            " [0.]\n",
            " [0.]]\n",
            "----------------------\n",
            "----------A @ v------------\n",
            "[[ 2.22044605e-16]\n",
            " [-8.88178420e-16]\n",
            " [ 4.44089210e-16]]\n",
            "----------------------\n",
            "---------A @ y-------------\n",
            "[[1.11022302e-16]\n",
            " [5.55111512e-16]\n",
            " [2.22044605e-16]]\n",
            "----------------------\n"
          ]
        }
      ],
      "source": [
        "#type your code here:\n"
      ]
    },
    {
      "cell_type": "markdown",
      "metadata": {
        "id": "5qxoZoP81xuQ"
      },
      "source": [
        "#### (d) Use python to calculate `z = x + y` .\n",
        "- What properties of matrix and vector algebra imply that $Az = b$?\n",
        "- Confirm by a python calculation that `A @ z - b` is approximately zero."
      ]
    },
    {
      "cell_type": "code",
      "source": [
        "z = x + y"
      ],
      "metadata": {
        "id": "xttBTKdSkZW1"
      },
      "execution_count": 46,
      "outputs": []
    },
    {
      "cell_type": "code",
      "source": [
        "A @ z - b"
      ],
      "metadata": {
        "colab": {
          "base_uri": "https://localhost:8080/"
        },
        "id": "rnYWd30mkmg_",
        "outputId": "46675e0d-b4bb-42cc-b414-52ce27dda73f"
      },
      "execution_count": 47,
      "outputs": [
        {
          "output_type": "execute_result",
          "data": {
            "text/plain": [
              "array([[-7.97972830e+01],\n",
              "       [-2.11503553e+01],\n",
              "       [-8.88178420e-16]])"
            ]
          },
          "metadata": {},
          "execution_count": 47
        }
      ]
    },
    {
      "cell_type": "code",
      "execution_count": null,
      "metadata": {
        "id": "SbmWqVBK1xuQ",
        "outputId": "2b93e571-5804-42a9-8e93-65363cf14244"
      },
      "outputs": [
        {
          "name": "stdout",
          "output_type": "stream",
          "text": [
            "-----------A @ z - b--------------\n",
            "[[0.]\n",
            " [0.]\n",
            " [0.]]\n",
            "----------------------------------\n"
          ]
        }
      ],
      "source": [
        "#type your code here:\n",
        "\n"
      ]
    },
    {
      "cell_type": "markdown",
      "metadata": {
        "id": "Tx-YBSv91xuQ"
      },
      "source": [
        "# Question 2. Spanning Sets and Linear Independence"
      ]
    },
    {
      "cell_type": "markdown",
      "metadata": {
        "id": "JVXWsMLC1xuQ"
      },
      "source": [
        "#### Generate four random vectors in R3 by the command\n",
        "- `u1 = rvect(3)`\n",
        "- `u2 = rvect(3)`\n",
        "- `u3 = rvect(3)`\n",
        "- `u4 = rvect(3)`\n",
        "\n",
        "\n",
        "\n",
        "\n",
        "#### (a) Consider the set of vectors S = {u1, u2, u3}. To determine whether S is linearly independent, form the matrix A with the vectors from S as columns and calculate its reduced row echelon form\n",
        "- `A = np.block([u1, u2, u3])`\n",
        "- `rref(A)`\n",
        "\n",
        "#### Use these calculations to answer the following questions:\n",
        "\n",
        "1. How many free variables does the equation Ax = 0 have?\n",
        "\n",
        "2. Is the set S linearly independent or linearly dependent? Why?"
      ]
    },
    {
      "cell_type": "code",
      "source": [
        "u1 = rvect(3)\n",
        "u2 = rvect(3)\n",
        "u3 = rvect(3)\n",
        "u4 = rvect(3)"
      ],
      "metadata": {
        "id": "vNIFpCgZlr0w"
      },
      "execution_count": 48,
      "outputs": []
    },
    {
      "cell_type": "code",
      "source": [
        "A = np.block([u1, u2, u3])\n",
        "rref(A)"
      ],
      "metadata": {
        "colab": {
          "base_uri": "https://localhost:8080/"
        },
        "id": "xsHe5pK6l3LT",
        "outputId": "7fadcbcd-7b51-4daa-e872-598f6b801068"
      },
      "execution_count": 49,
      "outputs": [
        {
          "output_type": "execute_result",
          "data": {
            "text/plain": [
              "array([[1., 0., 0.],\n",
              "       [0., 1., 0.],\n",
              "       [0., 0., 1.]])"
            ]
          },
          "metadata": {},
          "execution_count": 49
        }
      ]
    },
    {
      "cell_type": "markdown",
      "source": [
        "1. no free variable\n",
        "2. linearly independent as all column have pivot"
      ],
      "metadata": {
        "id": "TKNzhn4FmEcv"
      }
    },
    {
      "cell_type": "code",
      "execution_count": null,
      "metadata": {
        "id": "k-EwlC1F1xuQ",
        "outputId": "23080f23-5130-4f12-f075-f01971a72641"
      },
      "outputs": [
        {
          "name": "stdout",
          "output_type": "stream",
          "text": [
            "------A---------\n",
            "[[0. 3. 3.]\n",
            " [2. 7. 2.]\n",
            " [8. 0. 0.]]\n",
            "----------------\n",
            "------rref(A)---------\n",
            "[[1. 0. 0.]\n",
            " [0. 1. 0.]\n",
            " [0. 0. 1.]]\n",
            "----------------\n"
          ]
        }
      ],
      "source": [
        "####type your code here:\n",
        "\n"
      ]
    },
    {
      "cell_type": "markdown",
      "metadata": {
        "id": "vIuq0kp61xuQ"
      },
      "source": [
        "#### (b) Consider the set of vectors T = {u1, u2, u3, u4}. To determine whether T is linearly independent, form the matrix B with the vectors from T as columns and calculate its reduced row echelon form:\n",
        "\n",
        "- `B = [u1 u2 u3 u4]`\n",
        "- `rref(B)`\n",
        "\n",
        "#### Use these calculations to answer the following questions:\n",
        "\n",
        "1. How many free variables does the equation $Bx = 0$ have?\n",
        "\n",
        "2. Is the set T linearly independent or linearly dependent?"
      ]
    },
    {
      "cell_type": "code",
      "source": [
        "B = np.block([u1, u2, u3 , u4])\n",
        "rref(B)"
      ],
      "metadata": {
        "colab": {
          "base_uri": "https://localhost:8080/"
        },
        "id": "k19xqCzMmlb0",
        "outputId": "e8686e0c-f9f9-42e7-a386-5f295868dd51"
      },
      "execution_count": 50,
      "outputs": [
        {
          "output_type": "execute_result",
          "data": {
            "text/plain": [
              "array([[ 1.        ,  0.        ,  0.        , -1.16129032],\n",
              "       [ 0.        ,  1.        ,  0.        ,  1.58064516],\n",
              "       [ 0.        ,  0.        ,  1.        , -0.19354839]])"
            ]
          },
          "metadata": {},
          "execution_count": 50
        }
      ]
    },
    {
      "cell_type": "markdown",
      "source": [
        "1. one free variable x4\n",
        "2. the first three columns are independent but the fourth is linear compination"
      ],
      "metadata": {
        "id": "UEHBEbZznNbE"
      }
    },
    {
      "cell_type": "code",
      "execution_count": null,
      "metadata": {
        "id": "R33qu8mw1xuR",
        "outputId": "1fea0567-ae0f-4776-8f09-db7d804b6beb"
      },
      "outputs": [
        {
          "name": "stdout",
          "output_type": "stream",
          "text": [
            "------B---------\n",
            "[[0. 3. 3. 1.]\n",
            " [2. 7. 2. 4.]\n",
            " [8. 0. 0. 2.]]\n",
            "----------------\n",
            "------rref(B)---------\n",
            "[[ 1.          0.          0.          0.25      ]\n",
            " [ 0.          1.          0.          0.56666667]\n",
            " [ 0.          0.          1.         -0.23333333]]\n",
            "----------------\n"
          ]
        }
      ],
      "source": [
        "#type your code here:\n"
      ]
    },
    {
      "cell_type": "markdown",
      "metadata": {
        "id": "Z-rJfbVA1xuR"
      },
      "source": [
        "#### (c) Let v be a random linear combination of u1 and u2:\n",
        "\n",
        "- `v = np.random.rand(1) * u1 + np.random.rand(1) * u2`\n",
        "\n",
        "#### Thus v is of the form c1u1 + c2u2 for some scalars c1, c2. Consider the set of vectors U = {u1, u2, v}.\n",
        "\n",
        "1. Is the set U linearly independent or linearly dependent?\n",
        "2. Answer first without calculation using the definition of linear independent sets.\n",
        "\n"
      ]
    },
    {
      "cell_type": "markdown",
      "metadata": {
        "id": "CSfbTGtl1xuR"
      },
      "source": [
        "#### Check your answer by python using the method of part (a)."
      ]
    },
    {
      "cell_type": "code",
      "source": [
        "v = np.random.rand(1) * u1 + np.random.rand(1) * u2\n",
        "v"
      ],
      "metadata": {
        "colab": {
          "base_uri": "https://localhost:8080/"
        },
        "id": "8-W_1q3bngfV",
        "outputId": "6349051b-12b0-4247-c669-43bd55ed012c"
      },
      "execution_count": 51,
      "outputs": [
        {
          "output_type": "execute_result",
          "data": {
            "text/plain": [
              "array([[0.44336749],\n",
              "       [4.57630978],\n",
              "       [6.16884882]])"
            ]
          },
          "metadata": {},
          "execution_count": 51
        }
      ]
    },
    {
      "cell_type": "code",
      "source": [
        "U=np.block([u1,u2,v])\n",
        "U"
      ],
      "metadata": {
        "colab": {
          "base_uri": "https://localhost:8080/"
        },
        "id": "nKv9mbgTobh_",
        "outputId": "d13f0311-0fe2-43de-fa7a-3c6a4b6735b3"
      },
      "execution_count": 52,
      "outputs": [
        {
          "output_type": "execute_result",
          "data": {
            "text/plain": [
              "array([[0.        , 2.        , 0.44336749],\n",
              "       [7.        , 6.        , 4.57630978],\n",
              "       [9.        , 9.        , 6.16884882]])"
            ]
          },
          "metadata": {},
          "execution_count": 52
        }
      ]
    },
    {
      "cell_type": "markdown",
      "source": [
        "not linear independent as v is calculated from u1 and u2"
      ],
      "metadata": {
        "id": "RPcWxEEdomye"
      }
    },
    {
      "cell_type": "code",
      "execution_count": null,
      "metadata": {
        "id": "tlOEIFYH1xuR",
        "outputId": "e10a8fcb-f600-4259-e9a6-252673cd4230"
      },
      "outputs": [
        {
          "name": "stdout",
          "output_type": "stream",
          "text": [
            "------U---------\n",
            "[[0.         3.         0.84174763]\n",
            " [2.         7.         2.81036291]\n",
            " [8.         0.         3.3851404 ]]\n",
            "----------------\n",
            "------rref(U)---------\n",
            "[[1.         0.         0.42314255]\n",
            " [0.         1.         0.28058254]\n",
            " [0.         0.         0.        ]]\n",
            "----------------\n"
          ]
        }
      ],
      "source": [
        "#type your code here:\n"
      ]
    },
    {
      "cell_type": "markdown",
      "metadata": {
        "id": "AQAotd9t1xuR"
      },
      "source": [
        "# Question 3 :Visualizing the Column Space"
      ]
    },
    {
      "cell_type": "markdown",
      "metadata": {
        "id": "ciN_mAsO1xuR"
      },
      "source": [
        "In this question you will determine visually whether given vectors lie in the column space of a matrix.\n",
        "Random Seed: Initialize the random number generator by typing\n",
        "rand(’seed’, abcd)\n",
        "where abcd are the last four digits of your student ID number. This will ensure that you generate your own\n",
        "particular random vectors and matrices.\n",
        "\n",
        "#### Now generate a random $3 \\times 2$ integer matrix $A$ by the python and calculate rank(A). Since $A$ is a random matrix, the rank is very likely to be 2. If the rank is not 2, generate another A. Repeat the test until you get a matrix with rank 2.\n",
        "\n",
        "- `A = rmat(3, 2)`\n",
        "- `np.linalg.matrix_rank(A)`\n"
      ]
    },
    {
      "cell_type": "code",
      "source": [
        "A = rmat(3, 2)\n",
        "A"
      ],
      "metadata": {
        "colab": {
          "base_uri": "https://localhost:8080/"
        },
        "id": "HAHwkzDTr-ol",
        "outputId": "1a80f847-ecf8-4a17-e5d3-e9b150115882"
      },
      "execution_count": 53,
      "outputs": [
        {
          "output_type": "execute_result",
          "data": {
            "text/plain": [
              "array([[9., 5.],\n",
              "       [2., 4.],\n",
              "       [8., 3.]])"
            ]
          },
          "metadata": {},
          "execution_count": 53
        }
      ]
    },
    {
      "cell_type": "code",
      "source": [
        "np.linalg.matrix_rank(A)"
      ],
      "metadata": {
        "colab": {
          "base_uri": "https://localhost:8080/"
        },
        "id": "AccUVoeEsG7I",
        "outputId": "15640e02-0fa9-4edb-c317-7934a99d817c"
      },
      "execution_count": 54,
      "outputs": [
        {
          "output_type": "execute_result",
          "data": {
            "text/plain": [
              "2"
            ]
          },
          "metadata": {},
          "execution_count": 54
        }
      ]
    },
    {
      "cell_type": "code",
      "execution_count": null,
      "metadata": {
        "id": "uyV1Zixo1xuR"
      },
      "outputs": [],
      "source": [
        "#type your code here:\n"
      ]
    },
    {
      "cell_type": "markdown",
      "metadata": {
        "id": "IyTassSD1xuS"
      },
      "source": [
        "#### Use this matrix in the rest of the question. If you need to generate more than one matrix, include all the matrices you generate in your lab report.\n",
        "\n",
        "#### (a) Define `u = A[:,[0]]`, `v = A[:,[1]]` to be the column vectors for A. To graph the column space Col(A) of A, enter the python commands:\n",
        "- `s, t = np.meshgrid(np.arange(-1, 1, 0.1), np.arange(-1, 1, 0.1))`\n",
        "- `X = s * u[0] + t * v[0]`\n",
        "- `Y = s * u[1] + t * v[1]`\n",
        "- `Z = s * u[2] + t * v[2]`\n",
        "- Use matplotlib to graph the cloumn space using `plot_surface` as in this [example](https://matplotlib.org/gallery/mplot3d/surface3d.html#sphx-glr-gallery-mplot3d-surface3d-py)\n",
        "- Set graph axis limit -10, 10.\n",
        "- Set the color map of the graph to `cm.hot`."
      ]
    },
    {
      "cell_type": "code",
      "source": [
        "u = A[:,[0]]\n",
        "v = A[:,[1]]"
      ],
      "metadata": {
        "id": "ShB6WU2FsqJf"
      },
      "execution_count": 55,
      "outputs": []
    },
    {
      "cell_type": "code",
      "source": [
        "s, t = np.meshgrid(np.arange(-1, 1, 0.1), np.arange(-1, 1, 0.1))\n",
        "X = s * u[0] + t * v[0]\n",
        "Y = s * u[1] + t * v[1]\n",
        "Z = s * u[2] + t * v[2]"
      ],
      "metadata": {
        "id": "V_PZYdjZsT0Y"
      },
      "execution_count": 56,
      "outputs": []
    },
    {
      "cell_type": "code",
      "source": [
        "fig=plt.figure()\n",
        "ax=fig.add_subplot(111,projection='3d')\n",
        "ax.plot_surface(X,Y,Z,cmap=cm.hot);"
      ],
      "metadata": {
        "colab": {
          "base_uri": "https://localhost:8080/",
          "height": 409
        },
        "id": "SL-Bxcyhtvbi",
        "outputId": "fce2cddc-f646-43f7-a96b-f1487a91d6fc"
      },
      "execution_count": 57,
      "outputs": [
        {
          "output_type": "display_data",
          "data": {
            "text/plain": [
              "<Figure size 640x480 with 1 Axes>"
            ],
            "image/png": "[encoded data removed]"
          },
          "metadata": {}
        }
      ]
    },
    {
      "cell_type": "code",
      "execution_count": null,
      "metadata": {
        "id": "OJpngkqI1xuS",
        "outputId": "67ff117a-5f77-45a1-bc14-d00d9258ac6c"
      },
      "outputs": [
        {
          "name": "stdout",
          "output_type": "stream",
          "text": [
            "------------u-------------\n",
            "[[7.]\n",
            " [5.]\n",
            " [3.]]\n",
            "--------------------------\n",
            "------------v-------------\n",
            "[[8.]\n",
            " [6.]\n",
            " [8.]]\n",
            "--------------------------\n"
          ]
        },
        {
          "name": "stderr",
          "output_type": "stream",
          "text": [
            "C:\\Users\\OMARME~1\\AppData\\Local\\Temp/ipykernel_23816/3205482725.py:15: MatplotlibDeprecationWarning: Calling gca() with keyword arguments was deprecated in Matplotlib 3.4. Starting two minor releases later, gca() will take no keyword arguments. The gca() function should only be used to get the current axes, or if no axes exist, create new axes with default keyword arguments. To create a new axes with non-default arguments, use plt.axes() or plt.subplot().\n",
            "  ax = fig.gca(projection='3d')\n"
          ]
        },
        {
          "data": {
            "image/png": "[encoded data removed]",
            "text/plain": [
              "<Figure size 432x288 with 2 Axes>"
            ]
          },
          "metadata": {
            "needs_background": "light"
          },
          "output_type": "display_data"
        }
      ],
      "source": [
        "#type your code here\n"
      ]
    },
    {
      "cell_type": "markdown",
      "metadata": {
        "id": "kaFbJtEV1xuS"
      },
      "source": [
        "#### (b) Generate a random vector in R3 using the `rvect` function\n",
        "- b = rvect(3)"
      ]
    },
    {
      "cell_type": "code",
      "source": [
        "b = rvect(3)\n",
        "b"
      ],
      "metadata": {
        "colab": {
          "base_uri": "https://localhost:8080/"
        },
        "id": "L0CAWHn4uicR",
        "outputId": "1f2c4046-b41d-48f3-d83e-f825b20d9e99"
      },
      "execution_count": 58,
      "outputs": [
        {
          "output_type": "execute_result",
          "data": {
            "text/plain": [
              "array([[3.],\n",
              "       [3.],\n",
              "       [2.]])"
            ]
          },
          "metadata": {},
          "execution_count": 58
        }
      ]
    },
    {
      "cell_type": "code",
      "execution_count": null,
      "metadata": {
        "id": "fnJyEJH51xuS",
        "outputId": "288ed6e0-17e8-446c-9b06-2ccf3bdba373"
      },
      "outputs": [
        {
          "name": "stdout",
          "output_type": "stream",
          "text": [
            "------------b-------------\n",
            "[[2.]\n",
            " [2.]\n",
            " [9.]]\n",
            "--------------------------\n"
          ]
        }
      ],
      "source": [
        "#type your code here:\n"
      ]
    },
    {
      "cell_type": "markdown",
      "metadata": {
        "id": "HbcEWl-E1xuS"
      },
      "source": [
        "#### To graph the line Span(b) in the same figure as Col(A):\n",
        "- Copy the previous code that was used to graph Col(A)\n",
        "- Generate array r. `r = np.arange(-1, 1, 0.05)`\n",
        "- Plot the span(b). `ax.plot(r * b[0], r * b[1], r * b[2], 'b+', markersize=20)`\n",
        "- Note that the previous step should be before plt.show() to plot on the same figure.\n",
        "- Use `ax.view_init(45, 45)` change the values 45, 45 to rotate the figure to different view."
      ]
    },
    {
      "cell_type": "code",
      "source": [
        "fig=plt.figure()\n",
        "ax=fig.add_subplot(111,projection='3d')\n",
        "ax.plot_surface(X,Y,Z,cmap=cm.hot);\n",
        "r = np.arange(-1, 1, 0.05)\n",
        "ax.plot(r * b[0], r * b[1], r * b[2], 'b+', markersize=20)\n",
        "ax.view_init(180, 180)\n",
        "plt.show()"
      ],
      "metadata": {
        "colab": {
          "base_uri": "https://localhost:8080/",
          "height": 406
        },
        "id": "WqWyeR55xR0I",
        "outputId": "1afaa037-c5a6-4433-8bcb-2a1b23b4d771"
      },
      "execution_count": 59,
      "outputs": [
        {
          "output_type": "display_data",
          "data": {
            "text/plain": [
              "<Figure size 640x480 with 1 Axes>"
            ],
            "image/png": "[encoded data removed]"
          },
          "metadata": {}
        }
      ]
    },
    {
      "cell_type": "code",
      "execution_count": null,
      "metadata": {
        "id": "A0OpZY1G1xuS",
        "outputId": "8615620b-042f-40c1-fe38-0b3bb9075875"
      },
      "outputs": [
        {
          "name": "stderr",
          "output_type": "stream",
          "text": [
            "C:\\Users\\OMARME~1\\AppData\\Local\\Temp/ipykernel_23816/2380683397.py:3: MatplotlibDeprecationWarning: Calling gca() with keyword arguments was deprecated in Matplotlib 3.4. Starting two minor releases later, gca() will take no keyword arguments. The gca() function should only be used to get the current axes, or if no axes exist, create new axes with default keyword arguments. To create a new axes with non-default arguments, use plt.axes() or plt.subplot().\n",
            "  ax = fig.gca(projection='3d')\n"
          ]
        },
        {
          "data": {
            "image/png": "[encoded data removed]",
            "text/plain": [
              "<Figure size 432x288 with 2 Axes>"
            ]
          },
          "metadata": {
            "needs_background": "light"
          },
          "output_type": "display_data"
        }
      ],
      "source": [
        "#type your code here:\n"
      ]
    },
    {
      "cell_type": "markdown",
      "metadata": {
        "id": "VIgDdTXC1xuT"
      },
      "source": [
        "#### (c) Can you find a vector $x \\in R^2$ such that $Ax = b$, where $A$ is the matrix and $b$ is the vector that you have generated? Explain why or why not using the graph from part (b).\n"
      ]
    },
    {
      "cell_type": "markdown",
      "metadata": {
        "id": "T2caYSlJ1xuT"
      },
      "source": [
        "### -------------------------------------Type your answer here------------------------------------------------------------ ###\n",
        "\n",
        "by using the graph all vector in the surface of the area that matrix span so that means any value in the vector span acheive Ax=b\n",
        "\n",
        "### ---------------------------------------------------------------------------------------------------------------------------------- ###"
      ]
    },
    {
      "cell_type": "markdown",
      "metadata": {
        "id": "vGFE1AzU1xuT"
      },
      "source": [
        "#### (d) Generate a random vector lying in Col(A) where:\n",
        "\n",
        "- `z = np.random.rand(2, 1)`\n",
        "- `c = A @ z`"
      ]
    },
    {
      "cell_type": "code",
      "source": [
        "z = np.random.rand(2, 1)\n",
        "c = A @ z\n",
        "c"
      ],
      "metadata": {
        "colab": {
          "base_uri": "https://localhost:8080/"
        },
        "id": "B57atQX1yuPf",
        "outputId": "7ccdf354-499d-48b6-d8ee-b9262563c323"
      },
      "execution_count": 60,
      "outputs": [
        {
          "output_type": "execute_result",
          "data": {
            "text/plain": [
              "array([[12.42238866],\n",
              "       [ 5.25779059],\n",
              "       [ 9.79349336]])"
            ]
          },
          "metadata": {},
          "execution_count": 60
        }
      ]
    },
    {
      "cell_type": "code",
      "execution_count": null,
      "metadata": {
        "id": "iqy1EQ521xuT",
        "outputId": "bd671d66-b6c4-4d63-d309-00cffb66d9d5"
      },
      "outputs": [
        {
          "name": "stdout",
          "output_type": "stream",
          "text": [
            "---------c-------------\n",
            "[[7.06252724]\n",
            " [5.23346768]\n",
            " [6.04768326]]\n",
            "-----------------------\n"
          ]
        }
      ],
      "source": [
        "#type your code here:\n"
      ]
    },
    {
      "cell_type": "markdown",
      "metadata": {
        "id": "tvWKAqN61xuT"
      },
      "source": [
        "#### Plot a new graph of Span(c) and Col(A)"
      ]
    },
    {
      "cell_type": "code",
      "source": [
        "fig=plt.figure()\n",
        "ax=fig.add_subplot(111,projection='3d')\n",
        "ax.plot_surface(X,Y,Z,cmap=cm.hot);\n",
        "ax.plot(r * c[0], r * c[1], r * c[2], 'b+', markersize=20)\n",
        "ax.view_init(90, 90)\n",
        "plt.show()"
      ],
      "metadata": {
        "colab": {
          "base_uri": "https://localhost:8080/",
          "height": 406
        },
        "id": "2k8CdFDpyzp-",
        "outputId": "2b253009-567f-4d62-8e2c-90d380c9ab95"
      },
      "execution_count": 61,
      "outputs": [
        {
          "output_type": "display_data",
          "data": {
            "text/plain": [
              "<Figure size 640x480 with 1 Axes>"
            ],
            "image/png": "[encoded data removed]"
          },
          "metadata": {}
        }
      ]
    },
    {
      "cell_type": "code",
      "execution_count": null,
      "metadata": {
        "id": "4lroCIHA1xuU",
        "outputId": "88c791ad-b216-4d03-a293-fbee0e5f9016"
      },
      "outputs": [
        {
          "name": "stderr",
          "output_type": "stream",
          "text": [
            "C:\\Users\\OMARME~1\\AppData\\Local\\Temp/ipykernel_23816/3222810454.py:3: MatplotlibDeprecationWarning: Calling gca() with keyword arguments was deprecated in Matplotlib 3.4. Starting two minor releases later, gca() will take no keyword arguments. The gca() function should only be used to get the current axes, or if no axes exist, create new axes with default keyword arguments. To create a new axes with non-default arguments, use plt.axes() or plt.subplot().\n",
            "  ax = fig.gca(projection='3d')\n"
          ]
        },
        {
          "data": {
            "image/png": "[encoded data removed]",
            "text/plain": [
              "<Figure size 432x288 with 2 Axes>"
            ]
          },
          "metadata": {
            "needs_background": "light"
          },
          "output_type": "display_data"
        }
      ],
      "source": [
        "#type your code here\n"
      ]
    },
    {
      "cell_type": "markdown",
      "metadata": {
        "id": "-YeX4LWA1xuU"
      },
      "source": [
        "# Question 4: Reduced Row Echelon Form and Null Space"
      ]
    },
    {
      "cell_type": "markdown",
      "metadata": {
        "id": "sQ4ZJTHT1xuU"
      },
      "source": [
        "#### First generate a random $3 \\times 3$ integer matrix $B$ and check its rank:\n",
        "- `B = rmat(3, 3)`\n",
        "- `np.linalg.matrix_rank(B)`"
      ]
    },
    {
      "cell_type": "code",
      "source": [
        "B = rmat(3, 3)\n",
        "B"
      ],
      "metadata": {
        "colab": {
          "base_uri": "https://localhost:8080/"
        },
        "id": "CkdpQqOS3_aR",
        "outputId": "de498ddf-2ef5-4e25-ee63-5e7c9bb376e3"
      },
      "execution_count": null,
      "outputs": [
        {
          "output_type": "execute_result",
          "data": {
            "text/plain": [
              "array([[1., 4., 0.],\n",
              "       [1., 7., 1.],\n",
              "       [1., 9., 0.]])"
            ]
          },
          "metadata": {},
          "execution_count": 165
        }
      ]
    },
    {
      "cell_type": "code",
      "source": [
        "np.linalg.matrix_rank(B)"
      ],
      "metadata": {
        "colab": {
          "base_uri": "https://localhost:8080/"
        },
        "id": "VlaccUDK4CwI",
        "outputId": "446ae14c-7b10-44d6-9694-ce69aac614a4"
      },
      "execution_count": null,
      "outputs": [
        {
          "output_type": "execute_result",
          "data": {
            "text/plain": [
              "3"
            ]
          },
          "metadata": {},
          "execution_count": 166
        }
      ]
    },
    {
      "cell_type": "code",
      "execution_count": null,
      "metadata": {
        "id": "RcAgR5mT1xuU",
        "outputId": "f8930ca0-ef76-49c1-9bdc-4d778b94420f"
      },
      "outputs": [
        {
          "name": "stdout",
          "output_type": "stream",
          "text": [
            "-----------B---------------\n",
            "[[1. 8. 7.]\n",
            " [8. 8. 8.]\n",
            " [8. 0. 1.]]\n",
            "--------------------------\n",
            "----------rank(B)------------\n",
            "3\n",
            "--------------------------\n"
          ]
        }
      ],
      "source": [
        "#type your code here:\n"
      ]
    },
    {
      "cell_type": "markdown",
      "metadata": {
        "id": "c1szJvw61xuU"
      },
      "source": [
        "#### Since $B$ is random, it is very likely to have rank $3$. If not, generate another $B$ until this is true. Now use $B$ to define a $3 \\times 5$ matrix $A$ and its reduced row echelon form $R$ by\n",
        "\n",
        "- `A = np.block([B[:, [0]], B[:, [1]], 2 * B[:, [0]] + 3 * B[:, [1]], 4 * B[:, [0]] - 5 * B[:, [1]], B[:, [2]]])`\n",
        "- `R = rref(A)`\n",
        "\n",
        "#### (a) Use the definition of $A$ in terms of $B$ and the Column Correspondence Property to answer the following.\n",
        "\n",
        "- Explain why columns #1, #2, and #5 are the pivot columns of A and R."
      ]
    },
    {
      "cell_type": "code",
      "source": [
        "A = np.block([B[:, [0]], B[:, [1]], 2 * B[:, [0]] + 3 * B[:, [1]], 4 * B[:, [0]] - 5 * B[:, [1]], B[:, [2]]])\n",
        "A"
      ],
      "metadata": {
        "colab": {
          "base_uri": "https://localhost:8080/"
        },
        "id": "cw3QSN7H4VsX",
        "outputId": "a79c454e-e814-4dd6-8ca4-d92de38140bc"
      },
      "execution_count": null,
      "outputs": [
        {
          "output_type": "execute_result",
          "data": {
            "text/plain": [
              "array([[  1.,   4.,  14., -16.,   0.],\n",
              "       [  1.,   7.,  23., -31.,   1.],\n",
              "       [  1.,   9.,  29., -41.,   0.]])"
            ]
          },
          "metadata": {},
          "execution_count": 167
        }
      ]
    },
    {
      "cell_type": "code",
      "source": [
        "\n",
        "R = rref(A)\n",
        "R"
      ],
      "metadata": {
        "colab": {
          "base_uri": "https://localhost:8080/"
        },
        "id": "yFNYhqOo4exV",
        "outputId": "28a60382-a646-45cb-b9db-dd3cecf981c4"
      },
      "execution_count": null,
      "outputs": [
        {
          "output_type": "execute_result",
          "data": {
            "text/plain": [
              "array([[ 1.,  0.,  2.,  4.,  0.],\n",
              "       [ 0.,  1.,  3., -5.,  0.],\n",
              "       [ 0.,  0.,  0.,  0.,  1.]])"
            ]
          },
          "metadata": {},
          "execution_count": 168
        }
      ]
    },
    {
      "cell_type": "code",
      "execution_count": null,
      "metadata": {
        "id": "f7sxcooF1xuU",
        "outputId": "84e01a78-f081-4602-8ecf-793bf1acf799"
      },
      "outputs": [
        {
          "name": "stdout",
          "output_type": "stream",
          "text": [
            "-----------A---------------\n",
            "[[  1.   8.  26. -36.   7.]\n",
            " [  8.   8.  40.  -8.   8.]\n",
            " [  8.   0.  16.  32.   1.]]\n",
            "--------------------------\n",
            "----------R------------\n",
            "[[ 1.  0.  2.  4.  0.]\n",
            " [ 0.  1.  3. -5.  0.]\n",
            " [ 0.  0.  0.  0.  1.]]\n",
            "--------------------------\n"
          ]
        }
      ],
      "source": [
        "#type your code here:\n"
      ]
    },
    {
      "cell_type": "markdown",
      "metadata": {
        "id": "lm-kPZ2j1xuU"
      },
      "source": [
        "#### (b) Let $V$ be the set of solutions to the homogeneous system of equations $Ax = 0$ (the null space of $A$). In the equation $Ax = 0$ (where $x \\in R^5$),\n",
        "\n",
        "- what are the free variables and what is dim V ?"
      ]
    },
    {
      "cell_type": "markdown",
      "source": [
        "1. x3 and x4 is free variable\n"
      ],
      "metadata": {
        "id": "_YBwdZ967rab"
      }
    },
    {
      "cell_type": "code",
      "source": [],
      "metadata": {
        "id": "k89I62nk7keA"
      },
      "execution_count": null,
      "outputs": []
    },
    {
      "cell_type": "markdown",
      "metadata": {
        "id": "QWxDP6Ix1xuU"
      },
      "source": [
        "#### (c) Use the python function that was defined in the first cell `nulbasis` to calculate the special solutions to the system of equations $Ax = 0$:\n",
        "\n",
        "- `N = nulbasis(A)`\n",
        "\n",
        "#### The columns of $N$ are the solutions to $Ax = 0$ obtained by setting one free variable to 1 and all the other free variables to 0. Define:\n",
        "- `v1 = N[:,[0]]`\n",
        "- `v2 = N[:,[1]]`\n",
        "\n",
        "(Notice that `v1` and `v2` are 5-component vectors, not scalars.)\n",
        "\n",
        "1. Which component of v1 is 1 and which components of v1 are zero?\n",
        "\n",
        "2. Which component of v2 is 1 and which components of v2 are zero?\n",
        "\n",
        "3. Check by python that v1 and v2 are in null space of A."
      ]
    },
    {
      "cell_type": "code",
      "source": [
        "N = nulbasis(A)\n",
        "N"
      ],
      "metadata": {
        "colab": {
          "base_uri": "https://localhost:8080/"
        },
        "id": "QfHnXUme76vR",
        "outputId": "b4325fb5-cec6-4200-c017-016d202a1184"
      },
      "execution_count": null,
      "outputs": [
        {
          "output_type": "execute_result",
          "data": {
            "text/plain": [
              "array([[-2., -4.],\n",
              "       [-3.,  5.],\n",
              "       [ 1.,  0.],\n",
              "       [ 0.,  1.],\n",
              "       [ 0.,  0.]])"
            ]
          },
          "metadata": {},
          "execution_count": 170
        }
      ]
    },
    {
      "cell_type": "code",
      "source": [
        "v1 = N[:,[0]]\n",
        "v2 = N[:,[1]]\n",
        "print(v1,\"\\n\")\n",
        "print(v2,\"\\n\")"
      ],
      "metadata": {
        "colab": {
          "base_uri": "https://localhost:8080/"
        },
        "id": "Cqij4amZ61U4",
        "outputId": "c66936ec-9839-40d2-d1ca-199977bd0084"
      },
      "execution_count": null,
      "outputs": [
        {
          "output_type": "stream",
          "name": "stdout",
          "text": [
            "[[-2.]\n",
            " [-3.]\n",
            " [ 1.]\n",
            " [ 0.]\n",
            " [ 0.]] \n",
            "\n",
            "[[-4.]\n",
            " [ 5.]\n",
            " [ 0.]\n",
            " [ 1.]\n",
            " [ 0.]] \n",
            "\n"
          ]
        }
      ]
    },
    {
      "cell_type": "markdown",
      "source": [
        "1. The third component of v1 is 1, and the rest are approximately 0\n",
        "\n",
        "2. The fourth component of v2 is 1,  and the rest are approximately 0 except the second"
      ],
      "metadata": {
        "id": "4C_ZiGXD849w"
      }
    },
    {
      "cell_type": "markdown",
      "source": [],
      "metadata": {
        "id": "JlTLxf9G9URm"
      }
    },
    {
      "cell_type": "code",
      "source": [
        "A@v1"
      ],
      "metadata": {
        "colab": {
          "base_uri": "https://localhost:8080/"
        },
        "id": "_w0fj5YR8Uwo",
        "outputId": "d4f6cd95-2cbe-4a69-de0c-390ed6285d12"
      },
      "execution_count": null,
      "outputs": [
        {
          "output_type": "execute_result",
          "data": {
            "text/plain": [
              "array([[0.],\n",
              "       [0.],\n",
              "       [0.]])"
            ]
          },
          "metadata": {},
          "execution_count": 163
        }
      ]
    },
    {
      "cell_type": "code",
      "source": [
        "A@v2"
      ],
      "metadata": {
        "colab": {
          "base_uri": "https://localhost:8080/"
        },
        "id": "rW7Oup6I8pNA",
        "outputId": "8b989960-b13f-42d1-8a15-fd8c59fb36c9"
      },
      "execution_count": null,
      "outputs": [
        {
          "output_type": "execute_result",
          "data": {
            "text/plain": [
              "array([[0.],\n",
              "       [0.],\n",
              "       [0.]])"
            ]
          },
          "metadata": {},
          "execution_count": 164
        }
      ]
    },
    {
      "cell_type": "code",
      "execution_count": null,
      "metadata": {
        "id": "0hCu815C1xuV",
        "outputId": "cd8c9ed4-eb5f-4b9d-af91-0ef95d87675f"
      },
      "outputs": [
        {
          "name": "stdout",
          "output_type": "stream",
          "text": [
            "-------------N--------------\n",
            "[[-2. -4.]\n",
            " [-3.  5.]\n",
            " [ 1.  0.]\n",
            " [ 0.  1.]\n",
            " [ 0.  0.]]\n",
            "----------------------------\n",
            "-------------v1--------------\n",
            "[[-2.]\n",
            " [-3.]\n",
            " [ 1.]\n",
            " [ 0.]\n",
            " [ 0.]]\n",
            "----------------------------\n",
            "-------------v2--------------\n",
            "[[-4.]\n",
            " [ 5.]\n",
            " [ 0.]\n",
            " [ 1.]\n",
            " [ 0.]]\n",
            "----------------------------\n",
            "-------------A @ v1--------------\n",
            "[[0.]\n",
            " [0.]\n",
            " [0.]]\n",
            "----------------------------\n",
            "-------------A @ v2--------------\n",
            "[[0.]\n",
            " [0.]\n",
            " [0.]]\n",
            "----------------------------\n"
          ]
        }
      ],
      "source": [
        "#type your code here:\n"
      ]
    },
    {
      "cell_type": "markdown",
      "metadata": {
        "id": "4NFxINEM1xuV"
      },
      "source": [
        "#### (d) Now generate a random linear combination `x` of the vectors `v1` and `v2`:\n",
        "- `s = np.random.rand(1)`\n",
        "- `t = np.random.rand(1)`\n",
        "- `x = s * v1 + t * v2`\n",
        "\n",
        "(Note that each occurrence of rand(1) generates a different random coefficient).\n",
        "\n",
        "- Confirm by python that $x$ satisfies $Ax = 0$ and $Rx = 0$."
      ]
    },
    {
      "cell_type": "code",
      "source": [
        "s = np.random.rand(1)\n",
        "t = np.random.rand(1)\n",
        "x = s * v1 + t * v2\n",
        "print(s,\"\\n\")\n",
        "print(t,\"\\n\")\n",
        "print(x,\"\\n\")"
      ],
      "metadata": {
        "colab": {
          "base_uri": "https://localhost:8080/"
        },
        "id": "ne__17k6-C5B",
        "outputId": "77da12cc-ba78-49a2-8c25-a78da77aa1b9"
      },
      "execution_count": null,
      "outputs": [
        {
          "output_type": "stream",
          "name": "stdout",
          "text": [
            "[0.32293833] \n",
            "\n",
            "[0.64708284] \n",
            "\n",
            "[[-3.23420803]\n",
            " [ 2.26659922]\n",
            " [ 0.32293833]\n",
            " [ 0.64708284]\n",
            " [ 0.        ]] \n",
            "\n"
          ]
        }
      ]
    },
    {
      "cell_type": "code",
      "source": [
        "A@x"
      ],
      "metadata": {
        "id": "-JHikEwQ-yhl",
        "outputId": "9de2b6a6-abab-4033-ce95-31dcbc3bdc64",
        "colab": {
          "base_uri": "https://localhost:8080/"
        }
      },
      "execution_count": null,
      "outputs": [
        {
          "output_type": "execute_result",
          "data": {
            "text/plain": [
              "array([[ 4.44089210e-16],\n",
              "       [ 1.77635684e-15],\n",
              "       [-1.77635684e-15]])"
            ]
          },
          "metadata": {},
          "execution_count": 176
        }
      ]
    },
    {
      "cell_type": "code",
      "source": [
        "R@x"
      ],
      "metadata": {
        "id": "3CMZxgl8-2jL",
        "outputId": "6dcb96c5-bb2c-4930-8117-27ff99975e66",
        "colab": {
          "base_uri": "https://localhost:8080/"
        }
      },
      "execution_count": null,
      "outputs": [
        {
          "output_type": "execute_result",
          "data": {
            "text/plain": [
              "array([[0.],\n",
              "       [0.],\n",
              "       [0.]])"
            ]
          },
          "metadata": {},
          "execution_count": 177
        }
      ]
    },
    {
      "cell_type": "code",
      "execution_count": null,
      "metadata": {
        "id": "cVapyLF41xuV",
        "outputId": "6c4261ad-3da1-44ac-b6b5-cd17ec722260"
      },
      "outputs": [
        {
          "name": "stdout",
          "output_type": "stream",
          "text": [
            "-------------A @ x--------------\n",
            "[[ 1.77635684e-15]\n",
            " [-7.10542736e-15]\n",
            " [ 0.00000000e+00]]\n",
            "--------------------------------\n",
            "-------------R @ x--------------\n",
            "[[0.]\n",
            " [0.]\n",
            " [0.]]\n",
            "--------------------------------\n"
          ]
        }
      ],
      "source": [
        "#type your code here:\n"
      ]
    }
  ],
  "metadata": {
    "kernelspec": {
      "display_name": "Python 3",
      "language": "python",
      "name": "python3"
    },
    "language_info": {
      "codemirror_mode": {
        "name": "ipython",
        "version": 3
      },
      "file_extension": ".py",
      "mimetype": "text/x-python",
      "name": "python",
      "nbconvert_exporter": "python",
      "pygments_lexer": "ipython3",
      "version": "3.10.9"
    },
    "colab": {
      "provenance": []
    }
  },
  "nbformat": 4,
  "nbformat_minor": 0
}